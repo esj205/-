{
 "cells": [
  {
   "cell_type": "code",
   "execution_count": 1,
   "metadata": {},
   "outputs": [],
   "source": [
    "import numpy as np\n",
    "import pandas as pd\n",
    "import seaborn as sns\n",
    "import matplotlib.pyplot as plt\n",
    "\n",
    "from sklearn.metrics import f1_score\n"
   ]
  },
  {
   "cell_type": "code",
   "execution_count": 2,
   "metadata": {},
   "outputs": [],
   "source": [
    "from geoband.API import *"
   ]
  },
  {
   "cell_type": "code",
   "execution_count": 3,
   "metadata": {},
   "outputs": [],
   "source": [
    "import folium\n",
    "import json\n",
    "import geopandas as gpd\n"
   ]
  },
  {
   "cell_type": "code",
   "execution_count": 4,
   "metadata": {},
   "outputs": [],
   "source": [
    "GetCompasData('SBJ_2012_001', '2', '2.오산시_어린이교통사고_격자.geojson')"
   ]
  },
  {
   "cell_type": "code",
   "execution_count": 5,
   "metadata": {
    "scrolled": true
   },
   "outputs": [
    {
     "data": {
      "text/html": [
       "<div>\n",
       "<style scoped>\n",
       "    .dataframe tbody tr th:only-of-type {\n",
       "        vertical-align: middle;\n",
       "    }\n",
       "\n",
       "    .dataframe tbody tr th {\n",
       "        vertical-align: top;\n",
       "    }\n",
       "\n",
       "    .dataframe thead th {\n",
       "        text-align: right;\n",
       "    }\n",
       "</style>\n",
       "<table border=\"1\" class=\"dataframe\">\n",
       "  <thead>\n",
       "    <tr style=\"text-align: right;\">\n",
       "      <th></th>\n",
       "      <th>gid</th>\n",
       "      <th>accident_cnt</th>\n",
       "      <th>geometry</th>\n",
       "    </tr>\n",
       "  </thead>\n",
       "  <tbody>\n",
       "    <tr>\n",
       "      <th>0</th>\n",
       "      <td>다사551085</td>\n",
       "      <td>0</td>\n",
       "      <td>MULTIPOLYGON (((126.99422 37.17418, 126.99421 ...</td>\n",
       "    </tr>\n",
       "    <tr>\n",
       "      <th>1</th>\n",
       "      <td>다사551086</td>\n",
       "      <td>0</td>\n",
       "      <td>MULTIPOLYGON (((126.99421 37.17508, 126.99420 ...</td>\n",
       "    </tr>\n",
       "    <tr>\n",
       "      <th>2</th>\n",
       "      <td>다사551087</td>\n",
       "      <td>0</td>\n",
       "      <td>MULTIPOLYGON (((126.99420 37.17599, 126.99420 ...</td>\n",
       "    </tr>\n",
       "    <tr>\n",
       "      <th>3</th>\n",
       "      <td>다사551088</td>\n",
       "      <td>0</td>\n",
       "      <td>MULTIPOLYGON (((126.99420 37.17689, 126.99419 ...</td>\n",
       "    </tr>\n",
       "    <tr>\n",
       "      <th>4</th>\n",
       "      <td>다사552085</td>\n",
       "      <td>0</td>\n",
       "      <td>MULTIPOLYGON (((126.99534 37.17419, 126.99534 ...</td>\n",
       "    </tr>\n",
       "    <tr>\n",
       "      <th>...</th>\n",
       "      <td>...</td>\n",
       "      <td>...</td>\n",
       "      <td>...</td>\n",
       "    </tr>\n",
       "    <tr>\n",
       "      <th>4505</th>\n",
       "      <td>다사646052</td>\n",
       "      <td>0</td>\n",
       "      <td>MULTIPOLYGON (((127.10138 37.14484, 127.10138 ...</td>\n",
       "    </tr>\n",
       "    <tr>\n",
       "      <th>4506</th>\n",
       "      <td>다사646053</td>\n",
       "      <td>0</td>\n",
       "      <td>MULTIPOLYGON (((127.10138 37.14575, 127.10137 ...</td>\n",
       "    </tr>\n",
       "    <tr>\n",
       "      <th>4507</th>\n",
       "      <td>다사647050</td>\n",
       "      <td>0</td>\n",
       "      <td>MULTIPOLYGON (((127.10252 37.14305, 127.10251 ...</td>\n",
       "    </tr>\n",
       "    <tr>\n",
       "      <th>4508</th>\n",
       "      <td>다사647051</td>\n",
       "      <td>0</td>\n",
       "      <td>MULTIPOLYGON (((127.10251 37.14395, 127.10251 ...</td>\n",
       "    </tr>\n",
       "    <tr>\n",
       "      <th>4509</th>\n",
       "      <td>다사647052</td>\n",
       "      <td>0</td>\n",
       "      <td>MULTIPOLYGON (((127.10251 37.14485, 127.10250 ...</td>\n",
       "    </tr>\n",
       "  </tbody>\n",
       "</table>\n",
       "<p>4510 rows × 3 columns</p>\n",
       "</div>"
      ],
      "text/plain": [
       "           gid  accident_cnt  \\\n",
       "0     다사551085             0   \n",
       "1     다사551086             0   \n",
       "2     다사551087             0   \n",
       "3     다사551088             0   \n",
       "4     다사552085             0   \n",
       "...        ...           ...   \n",
       "4505  다사646052             0   \n",
       "4506  다사646053             0   \n",
       "4507  다사647050             0   \n",
       "4508  다사647051             0   \n",
       "4509  다사647052             0   \n",
       "\n",
       "                                               geometry  \n",
       "0     MULTIPOLYGON (((126.99422 37.17418, 126.99421 ...  \n",
       "1     MULTIPOLYGON (((126.99421 37.17508, 126.99420 ...  \n",
       "2     MULTIPOLYGON (((126.99420 37.17599, 126.99420 ...  \n",
       "3     MULTIPOLYGON (((126.99420 37.17689, 126.99419 ...  \n",
       "4     MULTIPOLYGON (((126.99534 37.17419, 126.99534 ...  \n",
       "...                                                 ...  \n",
       "4505  MULTIPOLYGON (((127.10138 37.14484, 127.10138 ...  \n",
       "4506  MULTIPOLYGON (((127.10138 37.14575, 127.10137 ...  \n",
       "4507  MULTIPOLYGON (((127.10252 37.14305, 127.10251 ...  \n",
       "4508  MULTIPOLYGON (((127.10251 37.14395, 127.10251 ...  \n",
       "4509  MULTIPOLYGON (((127.10251 37.14485, 127.10250 ...  \n",
       "\n",
       "[4510 rows x 3 columns]"
      ]
     },
     "execution_count": 5,
     "metadata": {},
     "output_type": "execute_result"
    }
   ],
   "source": [
    "data = gpd.read_file('2.오산시_어린이교통사고_격자.geojson')\n",
    "data"
   ]
  },
  {
   "cell_type": "markdown",
   "metadata": {},
   "source": [
    "#### 3. 오산시_차량등록현황격자"
   ]
  },
  {
   "cell_type": "code",
   "execution_count": null,
   "metadata": {},
   "outputs": [],
   "source": [
    "GetCompasData('SBJ_2012_001', '3', '3.오산시_차량등록현황_격자.geojson')\n"
   ]
  }
 ],
 "metadata": {
  "kernelspec": {
   "display_name": "Python 3",
   "language": "python",
   "name": "python3"
  },
  "language_info": {
   "codemirror_mode": {
    "name": "ipython",
    "version": 3
   },
   "file_extension": ".py",
   "mimetype": "text/x-python",
   "name": "python",
   "nbconvert_exporter": "python",
   "pygments_lexer": "ipython3",
   "version": "3.6.9"
  }
 },
 "nbformat": 4,
 "nbformat_minor": 2
}
