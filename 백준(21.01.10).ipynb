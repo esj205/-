{
 "cells": [
  {
   "cell_type": "code",
   "execution_count": 11,
   "metadata": {},
   "outputs": [],
   "source": [
    "import numpy as np\n",
    "import pandas as pd\n",
    "import seaborn as sns\n",
    "import matplotlib.pyplot as plt\n",
    "from sklearn.metrics import f1_score\n",
    "from pandas import Series, DataFrame\n",
    "\n",
    "from geoband.API import *\n",
    "import folium\n",
    "import json\n",
    "import geopandas as gpd"
   ]
  },
  {
   "cell_type": "markdown",
   "metadata": {},
   "source": [
    "### 5. 오산시_연령별_거주인구격자(유소년)"
   ]
  },
  {
   "cell_type": "code",
   "execution_count": 12,
   "metadata": {},
   "outputs": [
    {
     "data": {
      "text/html": [
       "<div>\n",
       "<style scoped>\n",
       "    .dataframe tbody tr th:only-of-type {\n",
       "        vertical-align: middle;\n",
       "    }\n",
       "\n",
       "    .dataframe tbody tr th {\n",
       "        vertical-align: top;\n",
       "    }\n",
       "\n",
       "    .dataframe thead th {\n",
       "        text-align: right;\n",
       "    }\n",
       "</style>\n",
       "<table border=\"1\" class=\"dataframe\">\n",
       "  <thead>\n",
       "    <tr style=\"text-align: right;\">\n",
       "      <th></th>\n",
       "      <th>gid</th>\n",
       "      <th>val</th>\n",
       "      <th>geometry</th>\n",
       "    </tr>\n",
       "  </thead>\n",
       "  <tbody>\n",
       "    <tr>\n",
       "      <th>0</th>\n",
       "      <td>다사551085</td>\n",
       "      <td>NaN</td>\n",
       "      <td>(POLYGON ((126.9942156468143 37.17418235770403...</td>\n",
       "    </tr>\n",
       "    <tr>\n",
       "      <th>1</th>\n",
       "      <td>다사551086</td>\n",
       "      <td>NaN</td>\n",
       "      <td>(POLYGON ((126.9942096381632 37.17508373885349...</td>\n",
       "    </tr>\n",
       "    <tr>\n",
       "      <th>2</th>\n",
       "      <td>다사551087</td>\n",
       "      <td>NaN</td>\n",
       "      <td>(POLYGON ((126.9942036292448 37.17598511986466...</td>\n",
       "    </tr>\n",
       "    <tr>\n",
       "      <th>3</th>\n",
       "      <td>다사551088</td>\n",
       "      <td>NaN</td>\n",
       "      <td>(POLYGON ((126.9941976200589 37.17688650073755...</td>\n",
       "    </tr>\n",
       "    <tr>\n",
       "      <th>4</th>\n",
       "      <td>다사552085</td>\n",
       "      <td>NaN</td>\n",
       "      <td>(POLYGON ((126.9953420754172 37.17418716043615...</td>\n",
       "    </tr>\n",
       "  </tbody>\n",
       "</table>\n",
       "</div>"
      ],
      "text/plain": [
       "        gid  val                                           geometry\n",
       "0  다사551085  NaN  (POLYGON ((126.9942156468143 37.17418235770403...\n",
       "1  다사551086  NaN  (POLYGON ((126.9942096381632 37.17508373885349...\n",
       "2  다사551087  NaN  (POLYGON ((126.9942036292448 37.17598511986466...\n",
       "3  다사551088  NaN  (POLYGON ((126.9941976200589 37.17688650073755...\n",
       "4  다사552085  NaN  (POLYGON ((126.9953420754172 37.17418716043615..."
      ]
     },
     "execution_count": 12,
     "metadata": {},
     "output_type": "execute_result"
    }
   ],
   "source": [
    "data5 = gpd.read_file('5.오산시_연령별_거주인구격자(유소년).geojson')\n",
    "data5.head()"
   ]
  },
  {
   "cell_type": "code",
   "execution_count": 13,
   "metadata": {},
   "outputs": [
    {
     "data": {
      "text/plain": [
       "(4510, 3)"
      ]
     },
     "execution_count": 13,
     "metadata": {},
     "output_type": "execute_result"
    }
   ],
   "source": [
    "data5.shape"
   ]
  },
  {
   "cell_type": "code",
   "execution_count": 14,
   "metadata": {},
   "outputs": [
    {
     "data": {
      "text/html": [
       "<div>\n",
       "<style scoped>\n",
       "    .dataframe tbody tr th:only-of-type {\n",
       "        vertical-align: middle;\n",
       "    }\n",
       "\n",
       "    .dataframe tbody tr th {\n",
       "        vertical-align: top;\n",
       "    }\n",
       "\n",
       "    .dataframe thead th {\n",
       "        text-align: right;\n",
       "    }\n",
       "</style>\n",
       "<table border=\"1\" class=\"dataframe\">\n",
       "  <thead>\n",
       "    <tr style=\"text-align: right;\">\n",
       "      <th></th>\n",
       "      <th>val</th>\n",
       "    </tr>\n",
       "  </thead>\n",
       "  <tbody>\n",
       "    <tr>\n",
       "      <th>count</th>\n",
       "      <td>967.000000</td>\n",
       "    </tr>\n",
       "    <tr>\n",
       "      <th>mean</th>\n",
       "      <td>33.707342</td>\n",
       "    </tr>\n",
       "    <tr>\n",
       "      <th>std</th>\n",
       "      <td>45.901711</td>\n",
       "    </tr>\n",
       "    <tr>\n",
       "      <th>min</th>\n",
       "      <td>0.000000</td>\n",
       "    </tr>\n",
       "    <tr>\n",
       "      <th>25%</th>\n",
       "      <td>0.000000</td>\n",
       "    </tr>\n",
       "    <tr>\n",
       "      <th>50%</th>\n",
       "      <td>13.000000</td>\n",
       "    </tr>\n",
       "    <tr>\n",
       "      <th>75%</th>\n",
       "      <td>54.000000</td>\n",
       "    </tr>\n",
       "    <tr>\n",
       "      <th>max</th>\n",
       "      <td>422.000000</td>\n",
       "    </tr>\n",
       "  </tbody>\n",
       "</table>\n",
       "</div>"
      ],
      "text/plain": [
       "              val\n",
       "count  967.000000\n",
       "mean    33.707342\n",
       "std     45.901711\n",
       "min      0.000000\n",
       "25%      0.000000\n",
       "50%     13.000000\n",
       "75%     54.000000\n",
       "max    422.000000"
      ]
     },
     "execution_count": 14,
     "metadata": {},
     "output_type": "execute_result"
    }
   ],
   "source": [
    "data5.describe()"
   ]
  },
  {
   "cell_type": "code",
   "execution_count": 15,
   "metadata": {},
   "outputs": [
    {
     "data": {
      "text/plain": [
       "gid            0\n",
       "val         3543\n",
       "geometry       0\n",
       "dtype: int64"
      ]
     },
     "execution_count": 15,
     "metadata": {},
     "output_type": "execute_result"
    }
   ],
   "source": [
    "data5.isnull().sum()"
   ]
  },
  {
   "cell_type": "code",
   "execution_count": 16,
   "metadata": {},
   "outputs": [
    {
     "data": {
      "text/plain": [
       "(967, 3)"
      ]
     },
     "execution_count": 16,
     "metadata": {},
     "output_type": "execute_result"
    }
   ],
   "source": [
    "data5 = data5.dropna(axis=0)\n",
    "data5.shape"
   ]
  },
  {
   "cell_type": "code",
   "execution_count": 17,
   "metadata": {},
   "outputs": [
    {
     "data": {
      "text/html": [
       "<div>\n",
       "<style scoped>\n",
       "    .dataframe tbody tr th:only-of-type {\n",
       "        vertical-align: middle;\n",
       "    }\n",
       "\n",
       "    .dataframe tbody tr th {\n",
       "        vertical-align: top;\n",
       "    }\n",
       "\n",
       "    .dataframe thead th {\n",
       "        text-align: right;\n",
       "    }\n",
       "</style>\n",
       "<table border=\"1\" class=\"dataframe\">\n",
       "  <thead>\n",
       "    <tr style=\"text-align: right;\">\n",
       "      <th></th>\n",
       "      <th>gid</th>\n",
       "      <th>val</th>\n",
       "      <th>geometry</th>\n",
       "    </tr>\n",
       "  </thead>\n",
       "  <tbody>\n",
       "    <tr>\n",
       "      <th>45</th>\n",
       "      <td>다사557084</td>\n",
       "      <td>0.0</td>\n",
       "      <td>(POLYGON ((127.0009801505264 37.17330963126954...</td>\n",
       "    </tr>\n",
       "    <tr>\n",
       "      <th>59</th>\n",
       "      <td>다사558088</td>\n",
       "      <td>0.0</td>\n",
       "      <td>(POLYGON ((127.0020829068639 37.17691989826309...</td>\n",
       "    </tr>\n",
       "    <tr>\n",
       "      <th>107</th>\n",
       "      <td>다사561086</td>\n",
       "      <td>0.0</td>\n",
       "      <td>(POLYGON ((127.0054740699322 37.17513128589124...</td>\n",
       "    </tr>\n",
       "    <tr>\n",
       "      <th>127</th>\n",
       "      <td>다사562085</td>\n",
       "      <td>0.0</td>\n",
       "      <td>(POLYGON ((127.0066063760226 37.17423459885707...</td>\n",
       "    </tr>\n",
       "    <tr>\n",
       "      <th>148</th>\n",
       "      <td>다사563085</td>\n",
       "      <td>0.0</td>\n",
       "      <td>(POLYGON ((127.0077328075276 37.17423928380897...</td>\n",
       "    </tr>\n",
       "  </tbody>\n",
       "</table>\n",
       "</div>"
      ],
      "text/plain": [
       "          gid  val                                           geometry\n",
       "45   다사557084  0.0  (POLYGON ((127.0009801505264 37.17330963126954...\n",
       "59   다사558088  0.0  (POLYGON ((127.0020829068639 37.17691989826309...\n",
       "107  다사561086  0.0  (POLYGON ((127.0054740699322 37.17513128589124...\n",
       "127  다사562085  0.0  (POLYGON ((127.0066063760226 37.17423459885707...\n",
       "148  다사563085  0.0  (POLYGON ((127.0077328075276 37.17423928380897..."
      ]
     },
     "execution_count": 17,
     "metadata": {},
     "output_type": "execute_result"
    }
   ],
   "source": [
    "data5.head()"
   ]
  },
  {
   "cell_type": "code",
   "execution_count": 18,
   "metadata": {},
   "outputs": [
    {
     "data": {
      "text/plain": [
       "(621, 3)"
      ]
     },
     "execution_count": 18,
     "metadata": {},
     "output_type": "execute_result"
    }
   ],
   "source": [
    "index5 = data5[data5['val']==0].index\n",
    "data5 = data5.drop(index5)\n",
    "data5.shape"
   ]
  },
  {
   "cell_type": "code",
   "execution_count": 19,
   "metadata": {},
   "outputs": [
    {
     "data": {
      "text/html": [
       "<div>\n",
       "<style scoped>\n",
       "    .dataframe tbody tr th:only-of-type {\n",
       "        vertical-align: middle;\n",
       "    }\n",
       "\n",
       "    .dataframe tbody tr th {\n",
       "        vertical-align: top;\n",
       "    }\n",
       "\n",
       "    .dataframe thead th {\n",
       "        text-align: right;\n",
       "    }\n",
       "</style>\n",
       "<table border=\"1\" class=\"dataframe\">\n",
       "  <thead>\n",
       "    <tr style=\"text-align: right;\">\n",
       "      <th></th>\n",
       "      <th>gid</th>\n",
       "      <th>val</th>\n",
       "      <th>geometry</th>\n",
       "    </tr>\n",
       "  </thead>\n",
       "  <tbody>\n",
       "    <tr>\n",
       "      <th>549</th>\n",
       "      <td>다사575108</td>\n",
       "      <td>6.0</td>\n",
       "      <td>(POLYGON ((127.0211191287615 37.19502648340971...</td>\n",
       "    </tr>\n",
       "    <tr>\n",
       "      <th>629</th>\n",
       "      <td>다사578076</td>\n",
       "      <td>88.0</td>\n",
       "      <td>(POLYGON ((127.0246801260675 37.16619579983916...</td>\n",
       "    </tr>\n",
       "    <tr>\n",
       "      <th>630</th>\n",
       "      <td>다사578077</td>\n",
       "      <td>96.0</td>\n",
       "      <td>(POLYGON ((127.0246744809541 37.16709718632111...</td>\n",
       "    </tr>\n",
       "    <tr>\n",
       "      <th>631</th>\n",
       "      <td>다사578078</td>\n",
       "      <td>23.0</td>\n",
       "      <td>(POLYGON ((127.0246688355894 37.16799857266487...</td>\n",
       "    </tr>\n",
       "    <tr>\n",
       "      <th>662</th>\n",
       "      <td>다사578109</td>\n",
       "      <td>6.0</td>\n",
       "      <td>(POLYGON ((127.0244937046088 37.19594148077861...</td>\n",
       "    </tr>\n",
       "  </tbody>\n",
       "</table>\n",
       "</div>"
      ],
      "text/plain": [
       "          gid   val                                           geometry\n",
       "549  다사575108   6.0  (POLYGON ((127.0211191287615 37.19502648340971...\n",
       "629  다사578076  88.0  (POLYGON ((127.0246801260675 37.16619579983916...\n",
       "630  다사578077  96.0  (POLYGON ((127.0246744809541 37.16709718632111...\n",
       "631  다사578078  23.0  (POLYGON ((127.0246688355894 37.16799857266487...\n",
       "662  다사578109   6.0  (POLYGON ((127.0244937046088 37.19594148077861..."
      ]
     },
     "execution_count": 19,
     "metadata": {},
     "output_type": "execute_result"
    }
   ],
   "source": [
    "data5.head()"
   ]
  },
  {
   "cell_type": "code",
   "execution_count": 20,
   "metadata": {},
   "outputs": [],
   "source": [
    "from shapely.geometry import Point, shape, mapping\n",
    "from shapely.ops import unary_union\n",
    "\n",
    "max_x = []\n",
    "max_y = []\n",
    "min_x = []\n",
    "min_y = []\n",
    "\n",
    "for i in range(len(data5)):\n",
    "    coord_x = []\n",
    "    coord_y = []\n",
    "    coord = mapping(data5.geometry[i])['coordinates']\n",
    "    for j in range(len(coord[0][0])):\n",
    "        coord_x.append(coord[0][0][j][0])\n",
    "        coord_y.append(coord[0][0][j][1])\n",
    "    max_x.append(max(coord_x))\n",
    "    max_y.append(max(coord_y))\n",
    "    min_x.append(min(coord_x))\n",
    "    min_y.append(min(coord_y))"
   ]
  },
  {
   "cell_type": "code",
   "execution_count": 21,
   "metadata": {},
   "outputs": [
    {
     "data": {
      "text/html": [
       "<div>\n",
       "<style scoped>\n",
       "    .dataframe tbody tr th:only-of-type {\n",
       "        vertical-align: middle;\n",
       "    }\n",
       "\n",
       "    .dataframe tbody tr th {\n",
       "        vertical-align: top;\n",
       "    }\n",
       "\n",
       "    .dataframe thead th {\n",
       "        text-align: right;\n",
       "    }\n",
       "</style>\n",
       "<table border=\"1\" class=\"dataframe\">\n",
       "  <thead>\n",
       "    <tr style=\"text-align: right;\">\n",
       "      <th></th>\n",
       "      <th>val</th>\n",
       "      <th>max_lon</th>\n",
       "      <th>max_lat</th>\n",
       "      <th>min_lon</th>\n",
       "      <th>min_lat</th>\n",
       "    </tr>\n",
       "  </thead>\n",
       "  <tbody>\n",
       "    <tr>\n",
       "      <th>549</th>\n",
       "      <td>6.0</td>\n",
       "      <td>127.022246</td>\n",
       "      <td>37.195932</td>\n",
       "      <td>127.021113</td>\n",
       "      <td>37.195026</td>\n",
       "    </tr>\n",
       "    <tr>\n",
       "      <th>629</th>\n",
       "      <td>88.0</td>\n",
       "      <td>127.025806</td>\n",
       "      <td>37.167102</td>\n",
       "      <td>127.024674</td>\n",
       "      <td>37.166196</td>\n",
       "    </tr>\n",
       "    <tr>\n",
       "      <th>630</th>\n",
       "      <td>96.0</td>\n",
       "      <td>127.025801</td>\n",
       "      <td>37.168003</td>\n",
       "      <td>127.024669</td>\n",
       "      <td>37.167097</td>\n",
       "    </tr>\n",
       "    <tr>\n",
       "      <th>631</th>\n",
       "      <td>23.0</td>\n",
       "      <td>127.025795</td>\n",
       "      <td>37.168904</td>\n",
       "      <td>127.024663</td>\n",
       "      <td>37.167999</td>\n",
       "    </tr>\n",
       "    <tr>\n",
       "      <th>662</th>\n",
       "      <td>6.0</td>\n",
       "      <td>127.025620</td>\n",
       "      <td>37.196847</td>\n",
       "      <td>127.024488</td>\n",
       "      <td>37.195941</td>\n",
       "    </tr>\n",
       "  </tbody>\n",
       "</table>\n",
       "</div>"
      ],
      "text/plain": [
       "      val     max_lon    max_lat     min_lon    min_lat\n",
       "549   6.0  127.022246  37.195932  127.021113  37.195026\n",
       "629  88.0  127.025806  37.167102  127.024674  37.166196\n",
       "630  96.0  127.025801  37.168003  127.024669  37.167097\n",
       "631  23.0  127.025795  37.168904  127.024663  37.167999\n",
       "662   6.0  127.025620  37.196847  127.024488  37.195941"
      ]
     },
     "execution_count": 21,
     "metadata": {},
     "output_type": "execute_result"
    }
   ],
   "source": [
    "data5 = pd.DataFrame({'val':data5.val,\n",
    "                       'max_lon':max_x,\n",
    "                       'max_lat':max_y,\n",
    "                       'min_lon':min_x,\n",
    "                       'min_lat':min_y})\n",
    "data5.head()"
   ]
  },
  {
   "cell_type": "markdown",
   "metadata": {},
   "source": [
    "### 10. 오산시_학교위치정보"
   ]
  },
  {
   "cell_type": "code",
   "execution_count": 22,
   "metadata": {},
   "outputs": [
    {
     "data": {
      "text/html": [
       "<div>\n",
       "<style scoped>\n",
       "    .dataframe tbody tr th:only-of-type {\n",
       "        vertical-align: middle;\n",
       "    }\n",
       "\n",
       "    .dataframe tbody tr th {\n",
       "        vertical-align: top;\n",
       "    }\n",
       "\n",
       "    .dataframe thead th {\n",
       "        text-align: right;\n",
       "    }\n",
       "</style>\n",
       "<table border=\"1\" class=\"dataframe\">\n",
       "  <thead>\n",
       "    <tr style=\"text-align: right;\">\n",
       "      <th></th>\n",
       "      <th>학교구분</th>\n",
       "      <th>학교명</th>\n",
       "      <th>학교위치_경도</th>\n",
       "      <th>학교위치_위도</th>\n",
       "      <th>geometry</th>\n",
       "    </tr>\n",
       "  </thead>\n",
       "  <tbody>\n",
       "    <tr>\n",
       "      <th>0</th>\n",
       "      <td>초등학교</td>\n",
       "      <td>원동초등학교</td>\n",
       "      <td>127.06969860000001</td>\n",
       "      <td>37.1351683</td>\n",
       "      <td>None</td>\n",
       "    </tr>\n",
       "    <tr>\n",
       "      <th>1</th>\n",
       "      <td>초등학교</td>\n",
       "      <td>운산초등학교</td>\n",
       "      <td>127.0774136</td>\n",
       "      <td>37.15249986</td>\n",
       "      <td>None</td>\n",
       "    </tr>\n",
       "    <tr>\n",
       "      <th>2</th>\n",
       "      <td>초등학교</td>\n",
       "      <td>화성초등학교</td>\n",
       "      <td>127.06885759999999</td>\n",
       "      <td>37.16461498</td>\n",
       "      <td>None</td>\n",
       "    </tr>\n",
       "    <tr>\n",
       "      <th>3</th>\n",
       "      <td>중학교</td>\n",
       "      <td>대호중학교</td>\n",
       "      <td>127.0569778</td>\n",
       "      <td>37.1618638</td>\n",
       "      <td>None</td>\n",
       "    </tr>\n",
       "    <tr>\n",
       "      <th>4</th>\n",
       "      <td>중학교</td>\n",
       "      <td>매홀중학교</td>\n",
       "      <td>127.0685001</td>\n",
       "      <td>37.16777784</td>\n",
       "      <td>None</td>\n",
       "    </tr>\n",
       "  </tbody>\n",
       "</table>\n",
       "</div>"
      ],
      "text/plain": [
       "   학교구분     학교명             학교위치_경도      학교위치_위도 geometry\n",
       "0  초등학교  원동초등학교  127.06969860000001   37.1351683     None\n",
       "1  초등학교  운산초등학교         127.0774136  37.15249986     None\n",
       "2  초등학교  화성초등학교  127.06885759999999  37.16461498     None\n",
       "3   중학교   대호중학교         127.0569778   37.1618638     None\n",
       "4   중학교   매홀중학교         127.0685001  37.16777784     None"
      ]
     },
     "execution_count": 22,
     "metadata": {},
     "output_type": "execute_result"
    }
   ],
   "source": [
    "data10 = gpd.read_file('10.오산시_학교위치정보.csv')\n",
    "data10.head()"
   ]
  },
  {
   "cell_type": "code",
   "execution_count": 23,
   "metadata": {},
   "outputs": [
    {
     "data": {
      "text/plain": [
       "(41, 5)"
      ]
     },
     "execution_count": 23,
     "metadata": {},
     "output_type": "execute_result"
    }
   ],
   "source": [
    "data10.shape"
   ]
  },
  {
   "cell_type": "code",
   "execution_count": 24,
   "metadata": {},
   "outputs": [
    {
     "data": {
      "text/html": [
       "<div>\n",
       "<style scoped>\n",
       "    .dataframe tbody tr th:only-of-type {\n",
       "        vertical-align: middle;\n",
       "    }\n",
       "\n",
       "    .dataframe tbody tr th {\n",
       "        vertical-align: top;\n",
       "    }\n",
       "\n",
       "    .dataframe thead th {\n",
       "        text-align: right;\n",
       "    }\n",
       "</style>\n",
       "<table border=\"1\" class=\"dataframe\">\n",
       "  <thead>\n",
       "    <tr style=\"text-align: right;\">\n",
       "      <th></th>\n",
       "      <th>학교구분</th>\n",
       "      <th>학교명</th>\n",
       "      <th>학교위치_경도</th>\n",
       "      <th>학교위치_위도</th>\n",
       "      <th>geometry</th>\n",
       "    </tr>\n",
       "  </thead>\n",
       "  <tbody>\n",
       "    <tr>\n",
       "      <th>count</th>\n",
       "      <td>41</td>\n",
       "      <td>41</td>\n",
       "      <td>41</td>\n",
       "      <td>41</td>\n",
       "      <td>0.0</td>\n",
       "    </tr>\n",
       "    <tr>\n",
       "      <th>unique</th>\n",
       "      <td>3</td>\n",
       "      <td>41</td>\n",
       "      <td>40</td>\n",
       "      <td>40</td>\n",
       "      <td>0.0</td>\n",
       "    </tr>\n",
       "    <tr>\n",
       "      <th>top</th>\n",
       "      <td>초등학교</td>\n",
       "      <td>성호고등학교</td>\n",
       "      <td>127.0613054</td>\n",
       "      <td>37.15300447</td>\n",
       "      <td>NaN</td>\n",
       "    </tr>\n",
       "    <tr>\n",
       "      <th>freq</th>\n",
       "      <td>24</td>\n",
       "      <td>1</td>\n",
       "      <td>2</td>\n",
       "      <td>2</td>\n",
       "      <td>NaN</td>\n",
       "    </tr>\n",
       "  </tbody>\n",
       "</table>\n",
       "</div>"
      ],
      "text/plain": [
       "        학교구분     학교명      학교위치_경도      학교위치_위도  geometry\n",
       "count     41      41           41           41       0.0\n",
       "unique     3      41           40           40       0.0\n",
       "top     초등학교  성호고등학교  127.0613054  37.15300447       NaN\n",
       "freq      24       1            2            2       NaN"
      ]
     },
     "execution_count": 24,
     "metadata": {},
     "output_type": "execute_result"
    }
   ],
   "source": [
    "data10.describe()"
   ]
  },
  {
   "cell_type": "code",
   "execution_count": 25,
   "metadata": {},
   "outputs": [
    {
     "data": {
      "text/plain": [
       "array(['초등학교', '중학교', '고등학교'], dtype=object)"
      ]
     },
     "execution_count": 25,
     "metadata": {},
     "output_type": "execute_result"
    }
   ],
   "source": [
    "data10.iloc[:,0].unique()"
   ]
  },
  {
   "cell_type": "code",
   "execution_count": 26,
   "metadata": {},
   "outputs": [
    {
     "data": {
      "text/plain": [
       "학교구분         0\n",
       "학교명          0\n",
       "학교위치_경도      0\n",
       "학교위치_위도      0\n",
       "geometry    41\n",
       "dtype: int64"
      ]
     },
     "execution_count": 26,
     "metadata": {},
     "output_type": "execute_result"
    }
   ],
   "source": [
    "data10.isnull().sum()"
   ]
  },
  {
   "cell_type": "code",
   "execution_count": 27,
   "metadata": {},
   "outputs": [
    {
     "data": {
      "text/plain": [
       "(24, 5)"
      ]
     },
     "execution_count": 27,
     "metadata": {},
     "output_type": "execute_result"
    }
   ],
   "source": [
    "data10 = data10[(data10['학교구분']=='초등학교')]\n",
    "data10.shape"
   ]
  },
  {
   "cell_type": "code",
   "execution_count": 28,
   "metadata": {},
   "outputs": [
    {
     "data": {
      "text/html": [
       "<div>\n",
       "<style scoped>\n",
       "    .dataframe tbody tr th:only-of-type {\n",
       "        vertical-align: middle;\n",
       "    }\n",
       "\n",
       "    .dataframe tbody tr th {\n",
       "        vertical-align: top;\n",
       "    }\n",
       "\n",
       "    .dataframe thead th {\n",
       "        text-align: right;\n",
       "    }\n",
       "</style>\n",
       "<table border=\"1\" class=\"dataframe\">\n",
       "  <thead>\n",
       "    <tr style=\"text-align: right;\">\n",
       "      <th></th>\n",
       "      <th>학교위치_경도</th>\n",
       "      <th>학교위치_위도</th>\n",
       "    </tr>\n",
       "  </thead>\n",
       "  <tbody>\n",
       "    <tr>\n",
       "      <th>0</th>\n",
       "      <td>127.06969860000001</td>\n",
       "      <td>37.1351683</td>\n",
       "    </tr>\n",
       "    <tr>\n",
       "      <th>1</th>\n",
       "      <td>127.0774136</td>\n",
       "      <td>37.15249986</td>\n",
       "    </tr>\n",
       "    <tr>\n",
       "      <th>2</th>\n",
       "      <td>127.06885759999999</td>\n",
       "      <td>37.16461498</td>\n",
       "    </tr>\n",
       "    <tr>\n",
       "      <th>12</th>\n",
       "      <td>127.04774909999999</td>\n",
       "      <td>37.14791946</td>\n",
       "    </tr>\n",
       "    <tr>\n",
       "      <th>13</th>\n",
       "      <td>127.090752</td>\n",
       "      <td>37.151697799999994</td>\n",
       "    </tr>\n",
       "  </tbody>\n",
       "</table>\n",
       "</div>"
      ],
      "text/plain": [
       "               학교위치_경도             학교위치_위도\n",
       "0   127.06969860000001          37.1351683\n",
       "1          127.0774136         37.15249986\n",
       "2   127.06885759999999         37.16461498\n",
       "12  127.04774909999999         37.14791946\n",
       "13          127.090752  37.151697799999994"
      ]
     },
     "execution_count": 28,
     "metadata": {},
     "output_type": "execute_result"
    }
   ],
   "source": [
    "data10 = data10[['학교위치_경도','학교위치_위도']]\n",
    "data10.head()"
   ]
  },
  {
   "cell_type": "code",
   "execution_count": 29,
   "metadata": {},
   "outputs": [
    {
     "data": {
      "text/html": [
       "<div>\n",
       "<style scoped>\n",
       "    .dataframe tbody tr th:only-of-type {\n",
       "        vertical-align: middle;\n",
       "    }\n",
       "\n",
       "    .dataframe tbody tr th {\n",
       "        vertical-align: top;\n",
       "    }\n",
       "\n",
       "    .dataframe thead th {\n",
       "        text-align: right;\n",
       "    }\n",
       "</style>\n",
       "<table border=\"1\" class=\"dataframe\">\n",
       "  <thead>\n",
       "    <tr style=\"text-align: right;\">\n",
       "      <th></th>\n",
       "      <th>학교위치_경도</th>\n",
       "      <th>학교위치_위도</th>\n",
       "    </tr>\n",
       "  </thead>\n",
       "  <tbody>\n",
       "    <tr>\n",
       "      <th>0</th>\n",
       "      <td>127.06969860000001</td>\n",
       "      <td>37.1351683</td>\n",
       "    </tr>\n",
       "    <tr>\n",
       "      <th>1</th>\n",
       "      <td>127.0774136</td>\n",
       "      <td>37.15249986</td>\n",
       "    </tr>\n",
       "    <tr>\n",
       "      <th>2</th>\n",
       "      <td>127.06885759999999</td>\n",
       "      <td>37.16461498</td>\n",
       "    </tr>\n",
       "    <tr>\n",
       "      <th>12</th>\n",
       "      <td>127.04774909999999</td>\n",
       "      <td>37.14791946</td>\n",
       "    </tr>\n",
       "    <tr>\n",
       "      <th>13</th>\n",
       "      <td>127.090752</td>\n",
       "      <td>37.151697799999994</td>\n",
       "    </tr>\n",
       "  </tbody>\n",
       "</table>\n",
       "</div>"
      ],
      "text/plain": [
       "               학교위치_경도             학교위치_위도\n",
       "0   127.06969860000001          37.1351683\n",
       "1          127.0774136         37.15249986\n",
       "2   127.06885759999999         37.16461498\n",
       "12  127.04774909999999         37.14791946\n",
       "13          127.090752  37.151697799999994"
      ]
     },
     "execution_count": 29,
     "metadata": {},
     "output_type": "execute_result"
    }
   ],
   "source": [
    "data10 = data10.drop_duplicates(['학교위치_경도','학교위치_위도'],keep='first')\n",
    "data10.head()"
   ]
  },
  {
   "cell_type": "code",
   "execution_count": 30,
   "metadata": {},
   "outputs": [
    {
     "data": {
      "text/plain": [
       "(24, 2)"
      ]
     },
     "execution_count": 30,
     "metadata": {},
     "output_type": "execute_result"
    }
   ],
   "source": [
    "data10.shape"
   ]
  },
  {
   "cell_type": "markdown",
   "metadata": {},
   "source": [
    "### 13. 오산시_어린이집_유치원현황"
   ]
  },
  {
   "cell_type": "code",
   "execution_count": 113,
   "metadata": {},
   "outputs": [
    {
     "data": {
      "text/html": [
       "<div>\n",
       "<style scoped>\n",
       "    .dataframe tbody tr th:only-of-type {\n",
       "        vertical-align: middle;\n",
       "    }\n",
       "\n",
       "    .dataframe tbody tr th {\n",
       "        vertical-align: top;\n",
       "    }\n",
       "\n",
       "    .dataframe thead th {\n",
       "        text-align: right;\n",
       "    }\n",
       "</style>\n",
       "<table border=\"1\" class=\"dataframe\">\n",
       "  <thead>\n",
       "    <tr style=\"text-align: right;\">\n",
       "      <th></th>\n",
       "      <th>시설구분</th>\n",
       "      <th>시설타입</th>\n",
       "      <th>시설명</th>\n",
       "      <th>시설위치_경도</th>\n",
       "      <th>시설위치_위도</th>\n",
       "      <th>geometry</th>\n",
       "    </tr>\n",
       "  </thead>\n",
       "  <tbody>\n",
       "    <tr>\n",
       "      <th>0</th>\n",
       "      <td>어린이집</td>\n",
       "      <td>민간</td>\n",
       "      <td>해오름어린이집</td>\n",
       "      <td>127.08433629999999</td>\n",
       "      <td>37.13238264</td>\n",
       "      <td>None</td>\n",
       "    </tr>\n",
       "    <tr>\n",
       "      <th>1</th>\n",
       "      <td>어린이집</td>\n",
       "      <td>가정</td>\n",
       "      <td>햇살가득어린이집</td>\n",
       "      <td>127.0418168</td>\n",
       "      <td>37.1821641</td>\n",
       "      <td>None</td>\n",
       "    </tr>\n",
       "    <tr>\n",
       "      <th>2</th>\n",
       "      <td>어린이집</td>\n",
       "      <td>가정</td>\n",
       "      <td>행복한아이들어린이집</td>\n",
       "      <td>127.0794942</td>\n",
       "      <td>37.15289078</td>\n",
       "      <td>None</td>\n",
       "    </tr>\n",
       "    <tr>\n",
       "      <th>3</th>\n",
       "      <td>어린이집</td>\n",
       "      <td>가정</td>\n",
       "      <td>휴튼사과나무어린이집</td>\n",
       "      <td>127.0496376</td>\n",
       "      <td>37.1779755</td>\n",
       "      <td>None</td>\n",
       "    </tr>\n",
       "    <tr>\n",
       "      <th>4</th>\n",
       "      <td>어린이집</td>\n",
       "      <td>직장</td>\n",
       "      <td>(주)아모레퍼시픽 오산어린이집</td>\n",
       "      <td>127.04025159999998</td>\n",
       "      <td>37.16531071</td>\n",
       "      <td>None</td>\n",
       "    </tr>\n",
       "  </tbody>\n",
       "</table>\n",
       "</div>"
      ],
      "text/plain": [
       "   시설구분 시설타입               시설명             시설위치_경도      시설위치_위도 geometry\n",
       "0  어린이집   민간           해오름어린이집  127.08433629999999  37.13238264     None\n",
       "1  어린이집   가정          햇살가득어린이집         127.0418168   37.1821641     None\n",
       "2  어린이집   가정        행복한아이들어린이집         127.0794942  37.15289078     None\n",
       "3  어린이집   가정        휴튼사과나무어린이집         127.0496376   37.1779755     None\n",
       "4  어린이집   직장  (주)아모레퍼시픽 오산어린이집  127.04025159999998  37.16531071     None"
      ]
     },
     "execution_count": 113,
     "metadata": {},
     "output_type": "execute_result"
    }
   ],
   "source": [
    "data13 = gpd.read_file('13.오산시_어린이집_유치원현황.csv')\n",
    "data13.head()"
   ]
  },
  {
   "cell_type": "code",
   "execution_count": 114,
   "metadata": {},
   "outputs": [
    {
     "data": {
      "text/plain": [
       "(307, 6)"
      ]
     },
     "execution_count": 114,
     "metadata": {},
     "output_type": "execute_result"
    }
   ],
   "source": [
    "data13.shape"
   ]
  },
  {
   "cell_type": "code",
   "execution_count": 115,
   "metadata": {},
   "outputs": [
    {
     "data": {
      "text/html": [
       "<div>\n",
       "<style scoped>\n",
       "    .dataframe tbody tr th:only-of-type {\n",
       "        vertical-align: middle;\n",
       "    }\n",
       "\n",
       "    .dataframe tbody tr th {\n",
       "        vertical-align: top;\n",
       "    }\n",
       "\n",
       "    .dataframe thead th {\n",
       "        text-align: right;\n",
       "    }\n",
       "</style>\n",
       "<table border=\"1\" class=\"dataframe\">\n",
       "  <thead>\n",
       "    <tr style=\"text-align: right;\">\n",
       "      <th></th>\n",
       "      <th>시설구분</th>\n",
       "      <th>시설타입</th>\n",
       "      <th>시설명</th>\n",
       "      <th>시설위치_경도</th>\n",
       "      <th>시설위치_위도</th>\n",
       "      <th>geometry</th>\n",
       "    </tr>\n",
       "  </thead>\n",
       "  <tbody>\n",
       "    <tr>\n",
       "      <th>count</th>\n",
       "      <td>307</td>\n",
       "      <td>307</td>\n",
       "      <td>307</td>\n",
       "      <td>307</td>\n",
       "      <td>307</td>\n",
       "      <td>0.0</td>\n",
       "    </tr>\n",
       "    <tr>\n",
       "      <th>unique</th>\n",
       "      <td>2</td>\n",
       "      <td>8</td>\n",
       "      <td>307</td>\n",
       "      <td>296</td>\n",
       "      <td>296</td>\n",
       "      <td>0.0</td>\n",
       "    </tr>\n",
       "    <tr>\n",
       "      <th>top</th>\n",
       "      <td>어린이집</td>\n",
       "      <td>가정</td>\n",
       "      <td>노블킨더유치원</td>\n",
       "      <td>127.0543087</td>\n",
       "      <td>37.1633092</td>\n",
       "      <td>NaN</td>\n",
       "    </tr>\n",
       "    <tr>\n",
       "      <th>freq</th>\n",
       "      <td>257</td>\n",
       "      <td>150</td>\n",
       "      <td>1</td>\n",
       "      <td>3</td>\n",
       "      <td>3</td>\n",
       "      <td>NaN</td>\n",
       "    </tr>\n",
       "  </tbody>\n",
       "</table>\n",
       "</div>"
      ],
      "text/plain": [
       "        시설구분 시설타입      시설명      시설위치_경도     시설위치_위도  geometry\n",
       "count    307  307      307          307         307       0.0\n",
       "unique     2    8      307          296         296       0.0\n",
       "top     어린이집   가정  노블킨더유치원  127.0543087  37.1633092       NaN\n",
       "freq     257  150        1            3           3       NaN"
      ]
     },
     "execution_count": 115,
     "metadata": {},
     "output_type": "execute_result"
    }
   ],
   "source": [
    "data13.describe()"
   ]
  },
  {
   "cell_type": "code",
   "execution_count": 116,
   "metadata": {},
   "outputs": [
    {
     "data": {
      "text/plain": [
       "array(['어린이집', '유치원'], dtype=object)"
      ]
     },
     "execution_count": 116,
     "metadata": {},
     "output_type": "execute_result"
    }
   ],
   "source": [
    "data13.iloc[:,0].unique()"
   ]
  },
  {
   "cell_type": "code",
   "execution_count": 106,
   "metadata": {},
   "outputs": [
    {
     "data": {
      "text/plain": [
       "시설구분          0\n",
       "시설타입          0\n",
       "시설명           0\n",
       "시설위치_경도       0\n",
       "시설위치_위도       0\n",
       "geometry    307\n",
       "dtype: int64"
      ]
     },
     "execution_count": 106,
     "metadata": {},
     "output_type": "execute_result"
    }
   ],
   "source": [
    "data13.isnull().sum()"
   ]
  },
  {
   "cell_type": "code",
   "execution_count": 107,
   "metadata": {},
   "outputs": [
    {
     "data": {
      "text/html": [
       "<div>\n",
       "<style scoped>\n",
       "    .dataframe tbody tr th:only-of-type {\n",
       "        vertical-align: middle;\n",
       "    }\n",
       "\n",
       "    .dataframe tbody tr th {\n",
       "        vertical-align: top;\n",
       "    }\n",
       "\n",
       "    .dataframe thead th {\n",
       "        text-align: right;\n",
       "    }\n",
       "</style>\n",
       "<table border=\"1\" class=\"dataframe\">\n",
       "  <thead>\n",
       "    <tr style=\"text-align: right;\">\n",
       "      <th></th>\n",
       "      <th>시설위치_경도</th>\n",
       "      <th>시설위치_위도</th>\n",
       "    </tr>\n",
       "  </thead>\n",
       "  <tbody>\n",
       "    <tr>\n",
       "      <th>0</th>\n",
       "      <td>127.08433629999999</td>\n",
       "      <td>37.13238264</td>\n",
       "    </tr>\n",
       "    <tr>\n",
       "      <th>1</th>\n",
       "      <td>127.0418168</td>\n",
       "      <td>37.1821641</td>\n",
       "    </tr>\n",
       "    <tr>\n",
       "      <th>2</th>\n",
       "      <td>127.0794942</td>\n",
       "      <td>37.15289078</td>\n",
       "    </tr>\n",
       "    <tr>\n",
       "      <th>3</th>\n",
       "      <td>127.0496376</td>\n",
       "      <td>37.1779755</td>\n",
       "    </tr>\n",
       "    <tr>\n",
       "      <th>4</th>\n",
       "      <td>127.04025159999998</td>\n",
       "      <td>37.16531071</td>\n",
       "    </tr>\n",
       "  </tbody>\n",
       "</table>\n",
       "</div>"
      ],
      "text/plain": [
       "              시설위치_경도      시설위치_위도\n",
       "0  127.08433629999999  37.13238264\n",
       "1         127.0418168   37.1821641\n",
       "2         127.0794942  37.15289078\n",
       "3         127.0496376   37.1779755\n",
       "4  127.04025159999998  37.16531071"
      ]
     },
     "execution_count": 107,
     "metadata": {},
     "output_type": "execute_result"
    }
   ],
   "source": [
    "data13 = data13[['시설위치_경도','시설위치_위도']]\n",
    "data13.head()"
   ]
  },
  {
   "cell_type": "code",
   "execution_count": 109,
   "metadata": {},
   "outputs": [
    {
     "data": {
      "text/html": [
       "<div>\n",
       "<style scoped>\n",
       "    .dataframe tbody tr th:only-of-type {\n",
       "        vertical-align: middle;\n",
       "    }\n",
       "\n",
       "    .dataframe tbody tr th {\n",
       "        vertical-align: top;\n",
       "    }\n",
       "\n",
       "    .dataframe thead th {\n",
       "        text-align: right;\n",
       "    }\n",
       "</style>\n",
       "<table border=\"1\" class=\"dataframe\">\n",
       "  <thead>\n",
       "    <tr style=\"text-align: right;\">\n",
       "      <th></th>\n",
       "      <th>시설위치_경도</th>\n",
       "      <th>시설위치_위도</th>\n",
       "    </tr>\n",
       "  </thead>\n",
       "  <tbody>\n",
       "    <tr>\n",
       "      <th>0</th>\n",
       "      <td>127.08433629999999</td>\n",
       "      <td>37.13238264</td>\n",
       "    </tr>\n",
       "    <tr>\n",
       "      <th>1</th>\n",
       "      <td>127.0418168</td>\n",
       "      <td>37.1821641</td>\n",
       "    </tr>\n",
       "    <tr>\n",
       "      <th>2</th>\n",
       "      <td>127.0794942</td>\n",
       "      <td>37.15289078</td>\n",
       "    </tr>\n",
       "    <tr>\n",
       "      <th>3</th>\n",
       "      <td>127.0496376</td>\n",
       "      <td>37.1779755</td>\n",
       "    </tr>\n",
       "    <tr>\n",
       "      <th>4</th>\n",
       "      <td>127.04025159999998</td>\n",
       "      <td>37.16531071</td>\n",
       "    </tr>\n",
       "  </tbody>\n",
       "</table>\n",
       "</div>"
      ],
      "text/plain": [
       "              시설위치_경도      시설위치_위도\n",
       "0  127.08433629999999  37.13238264\n",
       "1         127.0418168   37.1821641\n",
       "2         127.0794942  37.15289078\n",
       "3         127.0496376   37.1779755\n",
       "4  127.04025159999998  37.16531071"
      ]
     },
     "execution_count": 109,
     "metadata": {},
     "output_type": "execute_result"
    }
   ],
   "source": [
    "data13 = data13.drop_duplicates(['시설위치_경도','시설위치_위도'],keep='first')\n",
    "data13.head()"
   ]
  },
  {
   "cell_type": "code",
   "execution_count": 110,
   "metadata": {},
   "outputs": [
    {
     "data": {
      "text/plain": [
       "(296, 2)"
      ]
     },
     "execution_count": 110,
     "metadata": {},
     "output_type": "execute_result"
    }
   ],
   "source": [
    "data13.shape"
   ]
  },
  {
   "cell_type": "markdown",
   "metadata": {},
   "source": [
    "### 27. 오산시_도로명주소_건물"
   ]
  },
  {
   "cell_type": "code",
   "execution_count": 94,
   "metadata": {},
   "outputs": [
    {
     "data": {
      "text/html": [
       "<div>\n",
       "<style scoped>\n",
       "    .dataframe tbody tr th:only-of-type {\n",
       "        vertical-align: middle;\n",
       "    }\n",
       "\n",
       "    .dataframe tbody tr th {\n",
       "        vertical-align: top;\n",
       "    }\n",
       "\n",
       "    .dataframe thead th {\n",
       "        text-align: right;\n",
       "    }\n",
       "</style>\n",
       "<table border=\"1\" class=\"dataframe\">\n",
       "  <thead>\n",
       "    <tr style=\"text-align: right;\">\n",
       "      <th></th>\n",
       "      <th>BDTYP_CD</th>\n",
       "      <th>BULD_NM</th>\n",
       "      <th>BULD_NM_DC</th>\n",
       "      <th>BULD_SE_CD</th>\n",
       "      <th>BUL_MAN_NO</th>\n",
       "      <th>EMD_CD</th>\n",
       "      <th>GRO_FLO_CO</th>\n",
       "      <th>LNBR_MNNM</th>\n",
       "      <th>LNBR_SLNO</th>\n",
       "      <th>UND_FLO_CO</th>\n",
       "      <th>geometry</th>\n",
       "    </tr>\n",
       "  </thead>\n",
       "  <tbody>\n",
       "    <tr>\n",
       "      <th>0</th>\n",
       "      <td>04001</td>\n",
       "      <td>None</td>\n",
       "      <td>None</td>\n",
       "      <td>0</td>\n",
       "      <td>23692</td>\n",
       "      <td>102</td>\n",
       "      <td>1</td>\n",
       "      <td>454</td>\n",
       "      <td>5</td>\n",
       "      <td>0</td>\n",
       "      <td>(POLYGON ((127.0871424713726 37.15535053684245...</td>\n",
       "    </tr>\n",
       "    <tr>\n",
       "      <th>1</th>\n",
       "      <td>21005</td>\n",
       "      <td>None</td>\n",
       "      <td>None</td>\n",
       "      <td>0</td>\n",
       "      <td>18171</td>\n",
       "      <td>112</td>\n",
       "      <td>1</td>\n",
       "      <td>519</td>\n",
       "      <td>2</td>\n",
       "      <td>0</td>\n",
       "      <td>(POLYGON ((127.0108543392694 37.1889515432221,...</td>\n",
       "    </tr>\n",
       "    <tr>\n",
       "      <th>2</th>\n",
       "      <td>21005</td>\n",
       "      <td>None</td>\n",
       "      <td>None</td>\n",
       "      <td>0</td>\n",
       "      <td>18154</td>\n",
       "      <td>114</td>\n",
       "      <td>1</td>\n",
       "      <td>58</td>\n",
       "      <td>1</td>\n",
       "      <td>0</td>\n",
       "      <td>(POLYGON ((127.0358831962406 37.17901795122366...</td>\n",
       "    </tr>\n",
       "    <tr>\n",
       "      <th>3</th>\n",
       "      <td>15006</td>\n",
       "      <td>None</td>\n",
       "      <td>None</td>\n",
       "      <td>0</td>\n",
       "      <td>18491</td>\n",
       "      <td>114</td>\n",
       "      <td>1</td>\n",
       "      <td>58</td>\n",
       "      <td>1</td>\n",
       "      <td>0</td>\n",
       "      <td>(POLYGON ((127.035477945367 37.17859621399108,...</td>\n",
       "    </tr>\n",
       "    <tr>\n",
       "      <th>4</th>\n",
       "      <td>21005</td>\n",
       "      <td>None</td>\n",
       "      <td>None</td>\n",
       "      <td>0</td>\n",
       "      <td>18170</td>\n",
       "      <td>107</td>\n",
       "      <td>1</td>\n",
       "      <td>42</td>\n",
       "      <td>1</td>\n",
       "      <td>0</td>\n",
       "      <td>(POLYGON ((127.0386711133019 37.17609709938915...</td>\n",
       "    </tr>\n",
       "  </tbody>\n",
       "</table>\n",
       "</div>"
      ],
      "text/plain": [
       "  BDTYP_CD BULD_NM BULD_NM_DC BULD_SE_CD  BUL_MAN_NO EMD_CD  GRO_FLO_CO  \\\n",
       "0    04001    None       None          0       23692    102           1   \n",
       "1    21005    None       None          0       18171    112           1   \n",
       "2    21005    None       None          0       18154    114           1   \n",
       "3    15006    None       None          0       18491    114           1   \n",
       "4    21005    None       None          0       18170    107           1   \n",
       "\n",
       "   LNBR_MNNM  LNBR_SLNO  UND_FLO_CO  \\\n",
       "0        454          5           0   \n",
       "1        519          2           0   \n",
       "2         58          1           0   \n",
       "3         58          1           0   \n",
       "4         42          1           0   \n",
       "\n",
       "                                            geometry  \n",
       "0  (POLYGON ((127.0871424713726 37.15535053684245...  \n",
       "1  (POLYGON ((127.0108543392694 37.1889515432221,...  \n",
       "2  (POLYGON ((127.0358831962406 37.17901795122366...  \n",
       "3  (POLYGON ((127.035477945367 37.17859621399108,...  \n",
       "4  (POLYGON ((127.0386711133019 37.17609709938915...  "
      ]
     },
     "execution_count": 94,
     "metadata": {},
     "output_type": "execute_result"
    }
   ],
   "source": [
    "data27 = gpd.read_file('27.오산시_도로명주소_건물.geojson')\n",
    "data27.head()"
   ]
  },
  {
   "cell_type": "code",
   "execution_count": 95,
   "metadata": {},
   "outputs": [
    {
     "data": {
      "text/plain": [
       "(16449, 11)"
      ]
     },
     "execution_count": 95,
     "metadata": {},
     "output_type": "execute_result"
    }
   ],
   "source": [
    "data27.shape"
   ]
  },
  {
   "cell_type": "code",
   "execution_count": 96,
   "metadata": {},
   "outputs": [
    {
     "data": {
      "text/plain": [
       "count     16449\n",
       "unique      150\n",
       "top       01001\n",
       "freq       6399\n",
       "Name: BDTYP_CD, dtype: object"
      ]
     },
     "execution_count": 96,
     "metadata": {},
     "output_type": "execute_result"
    }
   ],
   "source": [
    "data27['BDTYP_CD'].describe()"
   ]
  },
  {
   "cell_type": "code",
   "execution_count": 97,
   "metadata": {},
   "outputs": [
    {
     "data": {
      "text/plain": [
       "array(['04001', '21005', '15006', '15002', '13000', '04000', '03999',\n",
       "       '03000', '16005', '04999', '15001', '03001', '14000', '01001',\n",
       "       '17000', '16006', '04006', '16002', '14999', '02004', '02001',\n",
       "       '10101', '06301', '04005', '13100', '15000', '14001', '16000',\n",
       "       '08999', '04402', '02003', '02002', '01003', '08201', '04010',\n",
       "       '06205', '04499', '08000', '08101', '08300', '02007', '02005',\n",
       "       '02006', '16999', '08400', '17999', '18004', '05301', '10199',\n",
       "       '17203', '05000', '04201', '08203', '08005', '10000', '06203',\n",
       "       '11000', '07000', '06299', '07101', '03101', '10102', '19000',\n",
       "       '06999', '07999', '04002', '15009', '05501', '03002', '08001',\n",
       "       '08299', '10299', '10201', '10202', '16009', '09000', '04199',\n",
       "       '05999', '07201', '05103', '18000', '14002', '05106', '05102',\n",
       "       '16001', '09999', '20002', '04403', '08199', '03005', '08102',\n",
       "       '04107', '21999', '08004', '16007', '01002', '03103', '06305',\n",
       "       '11199', '08103', '05107', '90001', '05101', '09001', '04018',\n",
       "       '13200', '17005', '17101', '11103', '03004', '03102', '12000',\n",
       "       '03015', '18003', '04101', '03199', '04106', '03104', '06000',\n",
       "       '03012', '11299', '15005', '08106', '09008', '05199', '06204',\n",
       "       '06310', '03105', '10204', '08003', '18002', '18001', '08202',\n",
       "       '04505', '07107', '03003', '04014', '16008', '27999', '17299',\n",
       "       '09011', '03100', '04007', '04299', '12999', '03013', '07108',\n",
       "       '04105', '08104', '17105'], dtype=object)"
      ]
     },
     "execution_count": 97,
     "metadata": {},
     "output_type": "execute_result"
    }
   ],
   "source": [
    "data27.iloc[:,0].unique()"
   ]
  },
  {
   "cell_type": "markdown",
   "metadata": {},
   "source": [
    "08601(청소년수련원)\n",
    "08602(유스호스텔)\n",
    "08603(청소년문화의집)\n",
    "08701(청소년수련원)\n",
    "08702(청소년야영장)\n",
    "21003(어린이회관)"
   ]
  },
  {
   "cell_type": "code",
   "execution_count": 98,
   "metadata": {},
   "outputs": [
    {
     "data": {
      "text/plain": [
       "(0, 11)"
      ]
     },
     "execution_count": 98,
     "metadata": {},
     "output_type": "execute_result"
    }
   ],
   "source": [
    "data27 = data27[(data27['BDTYP_CD']=='08601')|(data27['BDTYP_CD']=='08602')|(data27['BDTYP_CD']=='08603')\n",
    "                |(data27['BDTYP_CD']=='08701')|(data27['BDTYP_CD']=='08702')|(data27['BDTYP_CD']=='21003')]\n",
    "data27.shape"
   ]
  },
  {
   "cell_type": "markdown",
   "metadata": {},
   "source": [
    "### 29. 오산시_체육시설현황"
   ]
  },
  {
   "cell_type": "code",
   "execution_count": 68,
   "metadata": {},
   "outputs": [
    {
     "data": {
      "text/html": [
       "<div>\n",
       "<style scoped>\n",
       "    .dataframe tbody tr th:only-of-type {\n",
       "        vertical-align: middle;\n",
       "    }\n",
       "\n",
       "    .dataframe tbody tr th {\n",
       "        vertical-align: top;\n",
       "    }\n",
       "\n",
       "    .dataframe thead th {\n",
       "        text-align: right;\n",
       "    }\n",
       "</style>\n",
       "<table border=\"1\" class=\"dataframe\">\n",
       "  <thead>\n",
       "    <tr style=\"text-align: right;\">\n",
       "      <th></th>\n",
       "      <th>시설구분명</th>\n",
       "      <th>설치위치_경도</th>\n",
       "      <th>설치위치_위도</th>\n",
       "      <th>geometry</th>\n",
       "    </tr>\n",
       "  </thead>\n",
       "  <tbody>\n",
       "    <tr>\n",
       "      <th>0</th>\n",
       "      <td>육상시설</td>\n",
       "      <td>127.0738045</td>\n",
       "      <td>37.157196500000005</td>\n",
       "      <td>None</td>\n",
       "    </tr>\n",
       "    <tr>\n",
       "      <th>1</th>\n",
       "      <td>기타시설</td>\n",
       "      <td>127.04192330000001</td>\n",
       "      <td>37.17944</td>\n",
       "      <td>None</td>\n",
       "    </tr>\n",
       "    <tr>\n",
       "      <th>2</th>\n",
       "      <td>기타시설</td>\n",
       "      <td>127.0757197</td>\n",
       "      <td>37.1587541</td>\n",
       "      <td>None</td>\n",
       "    </tr>\n",
       "    <tr>\n",
       "      <th>3</th>\n",
       "      <td>테니스</td>\n",
       "      <td>127.07744459999999</td>\n",
       "      <td>37.1498057</td>\n",
       "      <td>None</td>\n",
       "    </tr>\n",
       "    <tr>\n",
       "      <th>4</th>\n",
       "      <td>테니스</td>\n",
       "      <td>127.0702232</td>\n",
       "      <td>37.155639799999996</td>\n",
       "      <td>None</td>\n",
       "    </tr>\n",
       "  </tbody>\n",
       "</table>\n",
       "</div>"
      ],
      "text/plain": [
       "  시설구분명             설치위치_경도             설치위치_위도 geometry\n",
       "0  육상시설         127.0738045  37.157196500000005     None\n",
       "1  기타시설  127.04192330000001            37.17944     None\n",
       "2  기타시설         127.0757197          37.1587541     None\n",
       "3   테니스  127.07744459999999          37.1498057     None\n",
       "4   테니스         127.0702232  37.155639799999996     None"
      ]
     },
     "execution_count": 68,
     "metadata": {},
     "output_type": "execute_result"
    }
   ],
   "source": [
    "data29 = gpd.read_file('29.오산시_체육시설현황.csv')\n",
    "data29.head()"
   ]
  },
  {
   "cell_type": "code",
   "execution_count": 69,
   "metadata": {},
   "outputs": [
    {
     "data": {
      "text/plain": [
       "(145, 4)"
      ]
     },
     "execution_count": 69,
     "metadata": {},
     "output_type": "execute_result"
    }
   ],
   "source": [
    "data29.shape"
   ]
  },
  {
   "cell_type": "code",
   "execution_count": 70,
   "metadata": {},
   "outputs": [
    {
     "data": {
      "text/html": [
       "<div>\n",
       "<style scoped>\n",
       "    .dataframe tbody tr th:only-of-type {\n",
       "        vertical-align: middle;\n",
       "    }\n",
       "\n",
       "    .dataframe tbody tr th {\n",
       "        vertical-align: top;\n",
       "    }\n",
       "\n",
       "    .dataframe thead th {\n",
       "        text-align: right;\n",
       "    }\n",
       "</style>\n",
       "<table border=\"1\" class=\"dataframe\">\n",
       "  <thead>\n",
       "    <tr style=\"text-align: right;\">\n",
       "      <th></th>\n",
       "      <th>시설구분명</th>\n",
       "      <th>설치위치_경도</th>\n",
       "      <th>설치위치_위도</th>\n",
       "      <th>geometry</th>\n",
       "    </tr>\n",
       "  </thead>\n",
       "  <tbody>\n",
       "    <tr>\n",
       "      <th>count</th>\n",
       "      <td>145</td>\n",
       "      <td>145</td>\n",
       "      <td>145</td>\n",
       "      <td>0.0</td>\n",
       "    </tr>\n",
       "    <tr>\n",
       "      <th>unique</th>\n",
       "      <td>6</td>\n",
       "      <td>123</td>\n",
       "      <td>125</td>\n",
       "      <td>0.0</td>\n",
       "    </tr>\n",
       "    <tr>\n",
       "      <th>top</th>\n",
       "      <td>체육도장업</td>\n",
       "      <td>127.060368</td>\n",
       "      <td>37.161143200000005</td>\n",
       "      <td>NaN</td>\n",
       "    </tr>\n",
       "    <tr>\n",
       "      <th>freq</th>\n",
       "      <td>131</td>\n",
       "      <td>3</td>\n",
       "      <td>3</td>\n",
       "      <td>NaN</td>\n",
       "    </tr>\n",
       "  </tbody>\n",
       "</table>\n",
       "</div>"
      ],
      "text/plain": [
       "        시설구분명     설치위치_경도             설치위치_위도  geometry\n",
       "count     145         145                 145       0.0\n",
       "unique      6         123                 125       0.0\n",
       "top     체육도장업  127.060368  37.161143200000005       NaN\n",
       "freq      131           3                   3       NaN"
      ]
     },
     "execution_count": 70,
     "metadata": {},
     "output_type": "execute_result"
    }
   ],
   "source": [
    "data29.describe()"
   ]
  },
  {
   "cell_type": "code",
   "execution_count": 71,
   "metadata": {},
   "outputs": [
    {
     "data": {
      "text/plain": [
       "array(['육상시설', '기타시설', '테니스', '수영장', '구기체육관', '체육도장업'], dtype=object)"
      ]
     },
     "execution_count": 71,
     "metadata": {},
     "output_type": "execute_result"
    }
   ],
   "source": [
    "data29.iloc[:,0].unique()"
   ]
  },
  {
   "cell_type": "code",
   "execution_count": 72,
   "metadata": {},
   "outputs": [
    {
     "data": {
      "text/plain": [
       "(139, 4)"
      ]
     },
     "execution_count": 72,
     "metadata": {},
     "output_type": "execute_result"
    }
   ],
   "source": [
    "index29 = data29[data29['시설구분명']=='테니스'].index\n",
    "data29 = data29.drop(index29)\n",
    "data29.shape"
   ]
  },
  {
   "cell_type": "code",
   "execution_count": 73,
   "metadata": {},
   "outputs": [
    {
     "data": {
      "text/plain": [
       "시설구분명         0\n",
       "설치위치_경도       0\n",
       "설치위치_위도       0\n",
       "geometry    139\n",
       "dtype: int64"
      ]
     },
     "execution_count": 73,
     "metadata": {},
     "output_type": "execute_result"
    }
   ],
   "source": [
    "data29.isnull().sum()"
   ]
  },
  {
   "cell_type": "code",
   "execution_count": 74,
   "metadata": {},
   "outputs": [
    {
     "data": {
      "text/html": [
       "<div>\n",
       "<style scoped>\n",
       "    .dataframe tbody tr th:only-of-type {\n",
       "        vertical-align: middle;\n",
       "    }\n",
       "\n",
       "    .dataframe tbody tr th {\n",
       "        vertical-align: top;\n",
       "    }\n",
       "\n",
       "    .dataframe thead th {\n",
       "        text-align: right;\n",
       "    }\n",
       "</style>\n",
       "<table border=\"1\" class=\"dataframe\">\n",
       "  <thead>\n",
       "    <tr style=\"text-align: right;\">\n",
       "      <th></th>\n",
       "      <th>설치위치_경도</th>\n",
       "      <th>설치위치_위도</th>\n",
       "    </tr>\n",
       "  </thead>\n",
       "  <tbody>\n",
       "    <tr>\n",
       "      <th>0</th>\n",
       "      <td>127.0738045</td>\n",
       "      <td>37.157196500000005</td>\n",
       "    </tr>\n",
       "    <tr>\n",
       "      <th>1</th>\n",
       "      <td>127.04192330000001</td>\n",
       "      <td>37.17944</td>\n",
       "    </tr>\n",
       "    <tr>\n",
       "      <th>2</th>\n",
       "      <td>127.0757197</td>\n",
       "      <td>37.1587541</td>\n",
       "    </tr>\n",
       "    <tr>\n",
       "      <th>9</th>\n",
       "      <td>127.0757197</td>\n",
       "      <td>37.1587541</td>\n",
       "    </tr>\n",
       "    <tr>\n",
       "      <th>10</th>\n",
       "      <td>127.0757197</td>\n",
       "      <td>37.1587541</td>\n",
       "    </tr>\n",
       "  </tbody>\n",
       "</table>\n",
       "</div>"
      ],
      "text/plain": [
       "               설치위치_경도             설치위치_위도\n",
       "0          127.0738045  37.157196500000005\n",
       "1   127.04192330000001            37.17944\n",
       "2          127.0757197          37.1587541\n",
       "9          127.0757197          37.1587541\n",
       "10         127.0757197          37.1587541"
      ]
     },
     "execution_count": 74,
     "metadata": {},
     "output_type": "execute_result"
    }
   ],
   "source": [
    "data29 = data29[['설치위치_경도','설치위치_위도']]\n",
    "data29.head()"
   ]
  },
  {
   "cell_type": "code",
   "execution_count": 75,
   "metadata": {},
   "outputs": [
    {
     "data": {
      "text/html": [
       "<div>\n",
       "<style scoped>\n",
       "    .dataframe tbody tr th:only-of-type {\n",
       "        vertical-align: middle;\n",
       "    }\n",
       "\n",
       "    .dataframe tbody tr th {\n",
       "        vertical-align: top;\n",
       "    }\n",
       "\n",
       "    .dataframe thead th {\n",
       "        text-align: right;\n",
       "    }\n",
       "</style>\n",
       "<table border=\"1\" class=\"dataframe\">\n",
       "  <thead>\n",
       "    <tr style=\"text-align: right;\">\n",
       "      <th></th>\n",
       "      <th>설치위치_경도</th>\n",
       "      <th>설치위치_위도</th>\n",
       "    </tr>\n",
       "  </thead>\n",
       "  <tbody>\n",
       "    <tr>\n",
       "      <th>0</th>\n",
       "      <td>127.0738045</td>\n",
       "      <td>37.157196500000005</td>\n",
       "    </tr>\n",
       "    <tr>\n",
       "      <th>1</th>\n",
       "      <td>127.04192330000001</td>\n",
       "      <td>37.17944</td>\n",
       "    </tr>\n",
       "    <tr>\n",
       "      <th>2</th>\n",
       "      <td>127.0757197</td>\n",
       "      <td>37.1587541</td>\n",
       "    </tr>\n",
       "    <tr>\n",
       "      <th>11</th>\n",
       "      <td>127.06969860000001</td>\n",
       "      <td>37.1351683</td>\n",
       "    </tr>\n",
       "    <tr>\n",
       "      <th>12</th>\n",
       "      <td>127.0422832</td>\n",
       "      <td>37.178638</td>\n",
       "    </tr>\n",
       "  </tbody>\n",
       "</table>\n",
       "</div>"
      ],
      "text/plain": [
       "               설치위치_경도             설치위치_위도\n",
       "0          127.0738045  37.157196500000005\n",
       "1   127.04192330000001            37.17944\n",
       "2          127.0757197          37.1587541\n",
       "11  127.06969860000001          37.1351683\n",
       "12         127.0422832           37.178638"
      ]
     },
     "execution_count": 75,
     "metadata": {},
     "output_type": "execute_result"
    }
   ],
   "source": [
    "data29 = data29.drop_duplicates(['설치위치_경도','설치위치_위도'],keep='first')\n",
    "data29.head()"
   ]
  },
  {
   "cell_type": "code",
   "execution_count": 76,
   "metadata": {},
   "outputs": [
    {
     "data": {
      "text/plain": [
       "(124, 2)"
      ]
     },
     "execution_count": 76,
     "metadata": {},
     "output_type": "execute_result"
    }
   ],
   "source": [
    "data29.shape"
   ]
  },
  {
   "cell_type": "markdown",
   "metadata": {},
   "source": [
    "### 30. 오산시_학원_및 _교습소_현황.csv"
   ]
  },
  {
   "cell_type": "code",
   "execution_count": 52,
   "metadata": {
    "scrolled": true
   },
   "outputs": [
    {
     "data": {
      "text/html": [
       "<div>\n",
       "<style scoped>\n",
       "    .dataframe tbody tr th:only-of-type {\n",
       "        vertical-align: middle;\n",
       "    }\n",
       "\n",
       "    .dataframe tbody tr th {\n",
       "        vertical-align: top;\n",
       "    }\n",
       "\n",
       "    .dataframe thead th {\n",
       "        text-align: right;\n",
       "    }\n",
       "</style>\n",
       "<table border=\"1\" class=\"dataframe\">\n",
       "  <thead>\n",
       "    <tr style=\"text-align: right;\">\n",
       "      <th></th>\n",
       "      <th>업종구분명</th>\n",
       "      <th>교습과정명</th>\n",
       "      <th>시설위치_경도</th>\n",
       "      <th>시설위치_위도</th>\n",
       "      <th>geometry</th>\n",
       "    </tr>\n",
       "  </thead>\n",
       "  <tbody>\n",
       "    <tr>\n",
       "      <th>0</th>\n",
       "      <td>교습소</td>\n",
       "      <td>음악</td>\n",
       "      <td>127.0489187</td>\n",
       "      <td>37.1462791</td>\n",
       "      <td>None</td>\n",
       "    </tr>\n",
       "    <tr>\n",
       "      <th>1</th>\n",
       "      <td>교습소</td>\n",
       "      <td>미술</td>\n",
       "      <td>127.0489187</td>\n",
       "      <td>37.1462791</td>\n",
       "      <td>None</td>\n",
       "    </tr>\n",
       "    <tr>\n",
       "      <th>2</th>\n",
       "      <td>교습소</td>\n",
       "      <td>보습</td>\n",
       "      <td>127.052419</td>\n",
       "      <td>37.14580915</td>\n",
       "      <td>None</td>\n",
       "    </tr>\n",
       "    <tr>\n",
       "      <th>3</th>\n",
       "      <td>학교교과교습학원</td>\n",
       "      <td>종합(국,수,사,과,논술)</td>\n",
       "      <td>127.0489187</td>\n",
       "      <td>37.1462791</td>\n",
       "      <td>None</td>\n",
       "    </tr>\n",
       "    <tr>\n",
       "      <th>4</th>\n",
       "      <td>학교교과교습학원</td>\n",
       "      <td>피아노(체르니40이상)</td>\n",
       "      <td>127.0489187</td>\n",
       "      <td>37.1462791</td>\n",
       "      <td>None</td>\n",
       "    </tr>\n",
       "  </tbody>\n",
       "</table>\n",
       "</div>"
      ],
      "text/plain": [
       "      업종구분명           교습과정명      시설위치_경도      시설위치_위도 geometry\n",
       "0       교습소              음악  127.0489187   37.1462791     None\n",
       "1       교습소              미술  127.0489187   37.1462791     None\n",
       "2       교습소              보습   127.052419  37.14580915     None\n",
       "3  학교교과교습학원  종합(국,수,사,과,논술)  127.0489187   37.1462791     None\n",
       "4  학교교과교습학원    피아노(체르니40이상)  127.0489187   37.1462791     None"
      ]
     },
     "execution_count": 52,
     "metadata": {},
     "output_type": "execute_result"
    }
   ],
   "source": [
    "data30 = gpd.read_file('30.오산시_학원_및_교습소_현황.csv')\n",
    "data30.head()"
   ]
  },
  {
   "cell_type": "code",
   "execution_count": 53,
   "metadata": {},
   "outputs": [
    {
     "data": {
      "text/plain": [
       "(1786, 5)"
      ]
     },
     "execution_count": 53,
     "metadata": {},
     "output_type": "execute_result"
    }
   ],
   "source": [
    "data30.shape"
   ]
  },
  {
   "cell_type": "code",
   "execution_count": 54,
   "metadata": {},
   "outputs": [
    {
     "data": {
      "text/html": [
       "<div>\n",
       "<style scoped>\n",
       "    .dataframe tbody tr th:only-of-type {\n",
       "        vertical-align: middle;\n",
       "    }\n",
       "\n",
       "    .dataframe tbody tr th {\n",
       "        vertical-align: top;\n",
       "    }\n",
       "\n",
       "    .dataframe thead th {\n",
       "        text-align: right;\n",
       "    }\n",
       "</style>\n",
       "<table border=\"1\" class=\"dataframe\">\n",
       "  <thead>\n",
       "    <tr style=\"text-align: right;\">\n",
       "      <th></th>\n",
       "      <th>업종구분명</th>\n",
       "      <th>교습과정명</th>\n",
       "      <th>시설위치_경도</th>\n",
       "      <th>시설위치_위도</th>\n",
       "      <th>geometry</th>\n",
       "    </tr>\n",
       "  </thead>\n",
       "  <tbody>\n",
       "    <tr>\n",
       "      <th>count</th>\n",
       "      <td>1786</td>\n",
       "      <td>1786</td>\n",
       "      <td>1786</td>\n",
       "      <td>1786</td>\n",
       "      <td>0.0</td>\n",
       "    </tr>\n",
       "    <tr>\n",
       "      <th>unique</th>\n",
       "      <td>3</td>\n",
       "      <td>1121</td>\n",
       "      <td>197</td>\n",
       "      <td>198</td>\n",
       "      <td>0.0</td>\n",
       "    </tr>\n",
       "    <tr>\n",
       "      <th>top</th>\n",
       "      <td>학교교과교습학원</td>\n",
       "      <td>보습</td>\n",
       "      <td>127.0737774</td>\n",
       "      <td>37.14020279</td>\n",
       "      <td>NaN</td>\n",
       "    </tr>\n",
       "    <tr>\n",
       "      <th>freq</th>\n",
       "      <td>1590</td>\n",
       "      <td>34</td>\n",
       "      <td>63</td>\n",
       "      <td>63</td>\n",
       "      <td>NaN</td>\n",
       "    </tr>\n",
       "  </tbody>\n",
       "</table>\n",
       "</div>"
      ],
      "text/plain": [
       "           업종구분명 교습과정명      시설위치_경도      시설위치_위도  geometry\n",
       "count       1786  1786         1786         1786       0.0\n",
       "unique         3  1121          197          198       0.0\n",
       "top     학교교과교습학원    보습  127.0737774  37.14020279       NaN\n",
       "freq        1590    34           63           63       NaN"
      ]
     },
     "execution_count": 54,
     "metadata": {},
     "output_type": "execute_result"
    }
   ],
   "source": [
    "data30.describe()"
   ]
  },
  {
   "cell_type": "code",
   "execution_count": 55,
   "metadata": {},
   "outputs": [
    {
     "data": {
      "text/plain": [
       "array(['교습소', '학교교과교습학원', '평생직업교육학원'], dtype=object)"
      ]
     },
     "execution_count": 55,
     "metadata": {},
     "output_type": "execute_result"
    }
   ],
   "source": [
    "data30.iloc[:,0].unique()"
   ]
  },
  {
   "cell_type": "code",
   "execution_count": 56,
   "metadata": {},
   "outputs": [
    {
     "data": {
      "text/plain": [
       "(1680, 5)"
      ]
     },
     "execution_count": 56,
     "metadata": {},
     "output_type": "execute_result"
    }
   ],
   "source": [
    "index30 = data30[data30['업종구분명']=='평생직업교육학원'].index\n",
    "data30 = data30.drop(index30)\n",
    "data30.shape"
   ]
  },
  {
   "cell_type": "code",
   "execution_count": 57,
   "metadata": {},
   "outputs": [
    {
     "data": {
      "text/plain": [
       "업종구분명          0\n",
       "교습과정명          0\n",
       "시설위치_경도        0\n",
       "시설위치_위도        0\n",
       "geometry    1680\n",
       "dtype: int64"
      ]
     },
     "execution_count": 57,
     "metadata": {},
     "output_type": "execute_result"
    }
   ],
   "source": [
    "data30.isnull().sum()"
   ]
  },
  {
   "cell_type": "code",
   "execution_count": 59,
   "metadata": {},
   "outputs": [
    {
     "data": {
      "text/html": [
       "<div>\n",
       "<style scoped>\n",
       "    .dataframe tbody tr th:only-of-type {\n",
       "        vertical-align: middle;\n",
       "    }\n",
       "\n",
       "    .dataframe tbody tr th {\n",
       "        vertical-align: top;\n",
       "    }\n",
       "\n",
       "    .dataframe thead th {\n",
       "        text-align: right;\n",
       "    }\n",
       "</style>\n",
       "<table border=\"1\" class=\"dataframe\">\n",
       "  <thead>\n",
       "    <tr style=\"text-align: right;\">\n",
       "      <th></th>\n",
       "      <th>시설위치_경도</th>\n",
       "      <th>시설위치_위도</th>\n",
       "    </tr>\n",
       "  </thead>\n",
       "  <tbody>\n",
       "    <tr>\n",
       "      <th>0</th>\n",
       "      <td>127.0489187</td>\n",
       "      <td>37.1462791</td>\n",
       "    </tr>\n",
       "    <tr>\n",
       "      <th>1</th>\n",
       "      <td>127.0489187</td>\n",
       "      <td>37.1462791</td>\n",
       "    </tr>\n",
       "    <tr>\n",
       "      <th>2</th>\n",
       "      <td>127.052419</td>\n",
       "      <td>37.14580915</td>\n",
       "    </tr>\n",
       "    <tr>\n",
       "      <th>3</th>\n",
       "      <td>127.0489187</td>\n",
       "      <td>37.1462791</td>\n",
       "    </tr>\n",
       "    <tr>\n",
       "      <th>4</th>\n",
       "      <td>127.0489187</td>\n",
       "      <td>37.1462791</td>\n",
       "    </tr>\n",
       "  </tbody>\n",
       "</table>\n",
       "</div>"
      ],
      "text/plain": [
       "       시설위치_경도      시설위치_위도\n",
       "0  127.0489187   37.1462791\n",
       "1  127.0489187   37.1462791\n",
       "2   127.052419  37.14580915\n",
       "3  127.0489187   37.1462791\n",
       "4  127.0489187   37.1462791"
      ]
     },
     "execution_count": 59,
     "metadata": {},
     "output_type": "execute_result"
    }
   ],
   "source": [
    "data30 = data30[['시설위치_경도','시설위치_위도']]\n",
    "data30.head()"
   ]
  },
  {
   "cell_type": "code",
   "execution_count": 66,
   "metadata": {},
   "outputs": [
    {
     "data": {
      "text/html": [
       "<div>\n",
       "<style scoped>\n",
       "    .dataframe tbody tr th:only-of-type {\n",
       "        vertical-align: middle;\n",
       "    }\n",
       "\n",
       "    .dataframe tbody tr th {\n",
       "        vertical-align: top;\n",
       "    }\n",
       "\n",
       "    .dataframe thead th {\n",
       "        text-align: right;\n",
       "    }\n",
       "</style>\n",
       "<table border=\"1\" class=\"dataframe\">\n",
       "  <thead>\n",
       "    <tr style=\"text-align: right;\">\n",
       "      <th></th>\n",
       "      <th>시설위치_경도</th>\n",
       "      <th>시설위치_위도</th>\n",
       "    </tr>\n",
       "  </thead>\n",
       "  <tbody>\n",
       "    <tr>\n",
       "      <th>0</th>\n",
       "      <td>127.0489187</td>\n",
       "      <td>37.1462791</td>\n",
       "    </tr>\n",
       "    <tr>\n",
       "      <th>2</th>\n",
       "      <td>127.052419</td>\n",
       "      <td>37.14580915</td>\n",
       "    </tr>\n",
       "    <tr>\n",
       "      <th>7</th>\n",
       "      <td>127.0460267</td>\n",
       "      <td>37.14755968</td>\n",
       "    </tr>\n",
       "    <tr>\n",
       "      <th>14</th>\n",
       "      <td>127.0685281</td>\n",
       "      <td>37.13511489</td>\n",
       "    </tr>\n",
       "    <tr>\n",
       "      <th>15</th>\n",
       "      <td>127.0687522</td>\n",
       "      <td>37.13392538</td>\n",
       "    </tr>\n",
       "  </tbody>\n",
       "</table>\n",
       "</div>"
      ],
      "text/plain": [
       "        시설위치_경도      시설위치_위도\n",
       "0   127.0489187   37.1462791\n",
       "2    127.052419  37.14580915\n",
       "7   127.0460267  37.14755968\n",
       "14  127.0685281  37.13511489\n",
       "15  127.0687522  37.13392538"
      ]
     },
     "execution_count": 66,
     "metadata": {},
     "output_type": "execute_result"
    }
   ],
   "source": [
    "data30 = data30.drop_duplicates(['시설위치_경도','시설위치_위도'],keep='first')\n",
    "data30.head()"
   ]
  },
  {
   "cell_type": "code",
   "execution_count": 67,
   "metadata": {},
   "outputs": [
    {
     "data": {
      "text/plain": [
       "(192, 2)"
      ]
     },
     "execution_count": 67,
     "metadata": {},
     "output_type": "execute_result"
    }
   ],
   "source": [
    "data30.shape"
   ]
  }
 ],
 "metadata": {
  "kernelspec": {
   "display_name": "Python 3",
   "language": "python",
   "name": "python3"
  },
  "language_info": {
   "codemirror_mode": {
    "name": "ipython",
    "version": 3
   },
   "file_extension": ".py",
   "mimetype": "text/x-python",
   "name": "python",
   "nbconvert_exporter": "python",
   "pygments_lexer": "ipython3",
   "version": "3.6.9"
  }
 },
 "nbformat": 4,
 "nbformat_minor": 2
}
