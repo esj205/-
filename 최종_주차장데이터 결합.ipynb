{
 "cells": [
  {
   "cell_type": "code",
   "execution_count": 13,
   "metadata": {},
   "outputs": [],
   "source": [
    "import pandas as pd\n",
    "import numpy as np\n",
    "import geopandas as gpd\n",
    "from shapely.geometry import Polygon, LineString, Point\n",
    "from shapely.geometry import Point, shape, mapping, Polygon, MultiPolygon\n",
    "from geoband.API import *\n",
    "import folium\n",
    "import json\n",
    "import geopandas as gpd"
   ]
  },
  {
   "cell_type": "code",
   "execution_count": 14,
   "metadata": {},
   "outputs": [],
   "source": [
    "def generate_point(data, lat, lon, crs = \"epsg:4326\"):\n",
    "    data = gpd.GeoDataFrame(\n",
    "    data, crs = crs,\n",
    "    geometry = [Point(latlon) for latlon in zip(data[lat],data[lon])])\n",
    "    return data"
   ]
  },
  {
   "cell_type": "code",
   "execution_count": 15,
   "metadata": {},
   "outputs": [],
   "source": [
    "data2 = gpd.read_file('2.오산시_어린이교통사고_격자.geojson')"
   ]
  },
  {
   "cell_type": "code",
   "execution_count": 16,
   "metadata": {},
   "outputs": [
    {
     "name": "stderr",
     "output_type": "stream",
     "text": [
      "/opt/app-root/lib/python3.6/site-packages/ipykernel_launcher.py:8: UserWarning: Geometry is in a geographic CRS. Results from 'buffer' are likely incorrect. Use 'GeoSeries.to_crs()' to re-project geometries to a projected CRS before this operation.\n",
      "\n",
      "  \n",
      "/opt/app-root/lib/python3.6/site-packages/geopandas/geodataframe.py:1190: SettingWithCopyWarning: \n",
      "A value is trying to be set on a copy of a slice from a DataFrame.\n",
      "Try using .loc[row_indexer,col_indexer] = value instead\n",
      "\n",
      "See the caveats in the documentation: https://pandas.pydata.org/pandas-docs/stable/user_guide/indexing.html#returning-a-view-versus-a-copy\n",
      "  super(GeoDataFrame, self).__setitem__(key, value)\n"
     ]
    }
   ],
   "source": [
    "parking = pd.read_excel(\"경기도_오산시_주차장.xlsx\")\n",
    "parking1 = pd.read_excel(\"오산시시설관리공단_주차장정보.xlsx\")\n",
    "parking = pd.concat([parking,parking1],axis=0).reset_index()\n",
    "parking = parking.drop(columns = [\"index\"])\n",
    "\n",
    "parking = generate_point(parking,\"경도\",\"위도\")\n",
    "park_buff = parking[[\"주차장명\",\"경도\",\"위도\",\"geometry\"]]\n",
    "park_buff[\"geometry\"] = parking.geometry.buffer(0.0004)\n",
    "\n",
    "# data2 (어린이 교통사고 격자) 기준으로 유동인구 건수 count \n",
    "park_inter = gpd.overlay(data2,park_buff, how = \"intersection\")\n",
    "park_gid = list(park_inter.gid.unique())\n",
    "\n",
    "# 일부수정 \n",
    "park_gid = [x for x in park_gid if x not in [\"다사606088\",\"다사605088\",\"다사610079\",\"다사609079\"]]\n",
    "park_gid += [\"다사607088\",\"다사608088\",\"다사610078\",\"다사609078\",\"다사608078\",\"다사608077\",\"다사610077\"]\n",
    "\n",
    "park_yn =[]\n",
    "for i in range(len(data2)):\n",
    "    if data2[\"gid\"][i] in park_gid: park_yn.append(1)\n",
    "    else: park_yn.append(0)"
   ]
  },
  {
   "cell_type": "code",
   "execution_count": 17,
   "metadata": {},
   "outputs": [],
   "source": [
    "final = pd.read_csv(\"final_all.txt\", delimiter = \"\\t\")"
   ]
  },
  {
   "cell_type": "code",
   "execution_count": 18,
   "metadata": {},
   "outputs": [
    {
     "data": {
      "text/plain": [
       "Index(['gid', 'accident_cnt', 'geometry', 'schoolzone_num', 'safetysign_num',\n",
       "       'bump_num', 'cctv_num', 'child_num', 'school_num', 'facility_num',\n",
       "       'signal_num', 'busstop_num', 'crosswalk_num', 'sidewalk_num',\n",
       "       'ill_park', 'foot_traf', 'car_num', 'node', 'park_yn', 'foot_traf_mean',\n",
       "       'traffic', 'bigcar_ratio', 'rushhour_itn', 'rushhour_freq',\n",
       "       'road_width'],\n",
       "      dtype='object')"
      ]
     },
     "execution_count": 18,
     "metadata": {},
     "output_type": "execute_result"
    }
   ],
   "source": [
    "final.columns"
   ]
  },
  {
   "cell_type": "code",
   "execution_count": 19,
   "metadata": {},
   "outputs": [],
   "source": [
    "final = final.drop(columns = [\"foot_traf\",\"rushhour_itn\"])"
   ]
  },
  {
   "cell_type": "code",
   "execution_count": 20,
   "metadata": {},
   "outputs": [],
   "source": [
    "final = final[['gid', 'geometry','accident_cnt', 'schoolzone_num', 'safetysign_num',\n",
    "       'bump_num', 'cctv_num', 'child_num', 'school_num', 'facility_num',\n",
    "       'signal_num', 'busstop_num', 'crosswalk_num', 'sidewalk_num',\n",
    "       'ill_park', 'car_num', 'node', 'park_yn', 'foot_traf_mean', 'traffic',\n",
    "       'bigcar_ratio', 'rushhour_freq', 'road_width']]"
   ]
  },
  {
   "cell_type": "code",
   "execution_count": 21,
   "metadata": {
    "scrolled": false
   },
   "outputs": [
    {
     "data": {
      "text/plain": [
       "gid                  0\n",
       "geometry             0\n",
       "accident_cnt         0\n",
       "schoolzone_num       0\n",
       "safetysign_num       0\n",
       "bump_num             0\n",
       "cctv_num             0\n",
       "child_num            0\n",
       "school_num           0\n",
       "facility_num         0\n",
       "signal_num           0\n",
       "busstop_num          0\n",
       "crosswalk_num        0\n",
       "sidewalk_num         0\n",
       "ill_park             0\n",
       "car_num              0\n",
       "node                 0\n",
       "park_yn              0\n",
       "foot_traf_mean       0\n",
       "traffic           2820\n",
       "bigcar_ratio      2820\n",
       "rushhour_freq     2820\n",
       "road_width        2820\n",
       "dtype: int64"
      ]
     },
     "execution_count": 21,
     "metadata": {},
     "output_type": "execute_result"
    }
   ],
   "source": [
    "final.isnull().sum()"
   ]
  },
  {
   "cell_type": "code",
   "execution_count": 22,
   "metadata": {},
   "outputs": [],
   "source": [
    "park_df = pd.DataFrame({\"park_yn\":park_yn})"
   ]
  },
  {
   "cell_type": "code",
   "execution_count": 23,
   "metadata": {},
   "outputs": [
    {
     "data": {
      "text/html": [
       "<div>\n",
       "<style scoped>\n",
       "    .dataframe tbody tr th:only-of-type {\n",
       "        vertical-align: middle;\n",
       "    }\n",
       "\n",
       "    .dataframe tbody tr th {\n",
       "        vertical-align: top;\n",
       "    }\n",
       "\n",
       "    .dataframe thead th {\n",
       "        text-align: right;\n",
       "    }\n",
       "</style>\n",
       "<table border=\"1\" class=\"dataframe\">\n",
       "  <thead>\n",
       "    <tr style=\"text-align: right;\">\n",
       "      <th></th>\n",
       "      <th>park_yn</th>\n",
       "    </tr>\n",
       "  </thead>\n",
       "  <tbody>\n",
       "    <tr>\n",
       "      <th>0</th>\n",
       "      <td>0</td>\n",
       "    </tr>\n",
       "    <tr>\n",
       "      <th>1</th>\n",
       "      <td>0</td>\n",
       "    </tr>\n",
       "    <tr>\n",
       "      <th>2</th>\n",
       "      <td>0</td>\n",
       "    </tr>\n",
       "    <tr>\n",
       "      <th>3</th>\n",
       "      <td>0</td>\n",
       "    </tr>\n",
       "    <tr>\n",
       "      <th>4</th>\n",
       "      <td>0</td>\n",
       "    </tr>\n",
       "    <tr>\n",
       "      <th>...</th>\n",
       "      <td>...</td>\n",
       "    </tr>\n",
       "    <tr>\n",
       "      <th>4505</th>\n",
       "      <td>0</td>\n",
       "    </tr>\n",
       "    <tr>\n",
       "      <th>4506</th>\n",
       "      <td>0</td>\n",
       "    </tr>\n",
       "    <tr>\n",
       "      <th>4507</th>\n",
       "      <td>0</td>\n",
       "    </tr>\n",
       "    <tr>\n",
       "      <th>4508</th>\n",
       "      <td>0</td>\n",
       "    </tr>\n",
       "    <tr>\n",
       "      <th>4509</th>\n",
       "      <td>0</td>\n",
       "    </tr>\n",
       "  </tbody>\n",
       "</table>\n",
       "<p>4510 rows × 1 columns</p>\n",
       "</div>"
      ],
      "text/plain": [
       "      park_yn\n",
       "0           0\n",
       "1           0\n",
       "2           0\n",
       "3           0\n",
       "4           0\n",
       "...       ...\n",
       "4505        0\n",
       "4506        0\n",
       "4507        0\n",
       "4508        0\n",
       "4509        0\n",
       "\n",
       "[4510 rows x 1 columns]"
      ]
     },
     "execution_count": 23,
     "metadata": {},
     "output_type": "execute_result"
    }
   ],
   "source": [
    "park_df"
   ]
  },
  {
   "cell_type": "code",
   "execution_count": 25,
   "metadata": {},
   "outputs": [
    {
     "data": {
      "text/plain": [
       "140"
      ]
     },
     "execution_count": 25,
     "metadata": {},
     "output_type": "execute_result"
    }
   ],
   "source": [
    "sum(park_df[\"park_yn\"]==1)"
   ]
  },
  {
   "cell_type": "code",
   "execution_count": 26,
   "metadata": {},
   "outputs": [
    {
     "data": {
      "text/plain": [
       "4370"
      ]
     },
     "execution_count": 26,
     "metadata": {},
     "output_type": "execute_result"
    }
   ],
   "source": [
    "sum(park_df[\"park_yn\"]==0)"
   ]
  },
  {
   "cell_type": "code",
   "execution_count": 28,
   "metadata": {
    "scrolled": false
   },
   "outputs": [
    {
     "data": {
      "text/plain": [
       "gid                0\n",
       "geometry           0\n",
       "accident_cnt       0\n",
       "schoolzone_num     0\n",
       "safetysign_num     0\n",
       "bump_num           0\n",
       "cctv_num           0\n",
       "child_num          0\n",
       "school_num         0\n",
       "facility_num       0\n",
       "signal_num         0\n",
       "busstop_num        0\n",
       "crosswalk_num      0\n",
       "sidewalk_num       0\n",
       "ill_park           0\n",
       "car_num            0\n",
       "node               0\n",
       "park_yn            0\n",
       "foot_traf_mean     0\n",
       "traffic           24\n",
       "bigcar_ratio      24\n",
       "rushhour_freq     24\n",
       "road_width        24\n",
       "dtype: int64"
      ]
     },
     "execution_count": 28,
     "metadata": {},
     "output_type": "execute_result"
    }
   ],
   "source": [
    "final[park_df[\"park_yn\"]==1].isnull().sum()"
   ]
  },
  {
   "cell_type": "code",
   "execution_count": 29,
   "metadata": {},
   "outputs": [
    {
     "data": {
      "text/plain": [
       "99.810000       1\n",
       "148.835000      1\n",
       "160.985000      2\n",
       "173.515000      1\n",
       "226.560000      3\n",
       "               ..\n",
       "27828.650000    2\n",
       "27943.905000    1\n",
       "27981.321667    1\n",
       "28000.030000    1\n",
       "28116.530000    1\n",
       "Name: traffic, Length: 1261, dtype: int64"
      ]
     },
     "execution_count": 29,
     "metadata": {},
     "output_type": "execute_result"
    }
   ],
   "source": [
    "final.traffic.value_counts().sort_index()"
   ]
  },
  {
   "cell_type": "code",
   "execution_count": 30,
   "metadata": {},
   "outputs": [
    {
     "data": {
      "text/plain": [
       "0.006008    1\n",
       "0.006683    1\n",
       "0.006845    1\n",
       "0.007378    1\n",
       "0.007547    1\n",
       "           ..\n",
       "0.392140    1\n",
       "0.433779    2\n",
       "0.445333    1\n",
       "0.485651    1\n",
       "0.513795    1\n",
       "Name: bigcar_ratio, Length: 1260, dtype: int64"
      ]
     },
     "execution_count": 30,
     "metadata": {},
     "output_type": "execute_result"
    }
   ],
   "source": [
    "final.bigcar_ratio.value_counts().sort_index()"
   ]
  },
  {
   "cell_type": "code",
   "execution_count": 31,
   "metadata": {},
   "outputs": [
    {
     "data": {
      "text/plain": [
       "0.000000      2\n",
       "0.025000      2\n",
       "0.033333      1\n",
       "0.068333      1\n",
       "0.078000      1\n",
       "             ..\n",
       "99.770000     2\n",
       "99.780000     2\n",
       "99.900000     1\n",
       "99.920000     2\n",
       "100.000000    4\n",
       "Name: rushhour_freq, Length: 1251, dtype: int64"
      ]
     },
     "execution_count": 31,
     "metadata": {},
     "output_type": "execute_result"
    }
   ],
   "source": [
    "final.rushhour_freq.value_counts().sort_index()"
   ]
  },
  {
   "cell_type": "code",
   "execution_count": 32,
   "metadata": {
    "scrolled": true
   },
   "outputs": [
    {
     "data": {
      "text/plain": [
       "0.250000     89\n",
       "0.277778      1\n",
       "0.281250      2\n",
       "0.300000      1\n",
       "0.312500      5\n",
       "           ... \n",
       "0.916667      8\n",
       "0.937500      3\n",
       "0.950000      1\n",
       "0.958333      1\n",
       "1.000000    141\n",
       "Name: road_width, Length: 81, dtype: int64"
      ]
     },
     "execution_count": 32,
     "metadata": {},
     "output_type": "execute_result"
    }
   ],
   "source": [
    "final.road_width.value_counts().sort_index()"
   ]
  },
  {
   "cell_type": "code",
   "execution_count": 33,
   "metadata": {},
   "outputs": [],
   "source": [
    "for i in range(len(final)):\n",
    "    if np.isnan(final.traffic[i]) and park_yn[i] == 1: \n",
    "        final.loc[i,\"traffic\"] = np.min(final.traffic)\n",
    "        final.loc[i,\"bigcar_ratio\"] = np.min(final.bigcar_ratio)\n",
    "        final.loc[i,\"rushhour_freq\"] = np.min(final.rushhour_freq)\n",
    "        final.loc[i,\"road_width\"] = np.min(final.road_width)"
   ]
  },
  {
   "cell_type": "code",
   "execution_count": 34,
   "metadata": {},
   "outputs": [
    {
     "data": {
      "text/plain": [
       "gid                  0\n",
       "geometry             0\n",
       "accident_cnt         0\n",
       "schoolzone_num       0\n",
       "safetysign_num       0\n",
       "bump_num             0\n",
       "cctv_num             0\n",
       "child_num            0\n",
       "school_num           0\n",
       "facility_num         0\n",
       "signal_num           0\n",
       "busstop_num          0\n",
       "crosswalk_num        0\n",
       "sidewalk_num         0\n",
       "ill_park             0\n",
       "car_num              0\n",
       "node                 0\n",
       "park_yn              0\n",
       "foot_traf_mean       0\n",
       "traffic           2796\n",
       "bigcar_ratio      2796\n",
       "rushhour_freq     2796\n",
       "road_width        2796\n",
       "dtype: int64"
      ]
     },
     "execution_count": 34,
     "metadata": {},
     "output_type": "execute_result"
    }
   ],
   "source": [
    "final.isnull().sum()"
   ]
  },
  {
   "cell_type": "code",
   "execution_count": 35,
   "metadata": {},
   "outputs": [],
   "source": [
    "final_woNA = final[final.traffic.isnull()==False]"
   ]
  },
  {
   "cell_type": "code",
   "execution_count": 36,
   "metadata": {},
   "outputs": [
    {
     "data": {
      "text/plain": [
       "(1714, 23)"
      ]
     },
     "execution_count": 36,
     "metadata": {},
     "output_type": "execute_result"
    }
   ],
   "source": [
    "final_woNA.shape"
   ]
  },
  {
   "cell_type": "code",
   "execution_count": 37,
   "metadata": {},
   "outputs": [
    {
     "data": {
      "text/plain": [
       "Index(['gid', 'geometry', 'accident_cnt', 'schoolzone_num', 'safetysign_num',\n",
       "       'bump_num', 'cctv_num', 'child_num', 'school_num', 'facility_num',\n",
       "       'signal_num', 'busstop_num', 'crosswalk_num', 'sidewalk_num',\n",
       "       'ill_park', 'car_num', 'node', 'park_yn', 'foot_traf_mean', 'traffic',\n",
       "       'bigcar_ratio', 'rushhour_freq', 'road_width'],\n",
       "      dtype='object')"
      ]
     },
     "execution_count": 37,
     "metadata": {},
     "output_type": "execute_result"
    }
   ],
   "source": [
    "final_woNA.columns"
   ]
  },
  {
   "cell_type": "code",
   "execution_count": 38,
   "metadata": {},
   "outputs": [],
   "source": [
    "final_woNA.to_csv(\"final_woNA.csv\",encoding='utf-8', sep='\\t')"
   ]
  },
  {
   "cell_type": "code",
   "execution_count": null,
   "metadata": {},
   "outputs": [],
   "source": []
  },
  {
   "cell_type": "code",
   "execution_count": null,
   "metadata": {},
   "outputs": [],
   "source": []
  }
 ],
 "metadata": {
  "kernelspec": {
   "display_name": "Python 3",
   "language": "python",
   "name": "python3"
  },
  "language_info": {
   "codemirror_mode": {
    "name": "ipython",
    "version": 3
   },
   "file_extension": ".py",
   "mimetype": "text/x-python",
   "name": "python",
   "nbconvert_exporter": "python",
   "pygments_lexer": "ipython3",
   "version": "3.6.9"
  }
 },
 "nbformat": 4,
 "nbformat_minor": 4
}
